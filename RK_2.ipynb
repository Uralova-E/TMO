{
 "cells": [
  {
   "cell_type": "markdown",
   "id": "4240895d",
   "metadata": {},
   "source": [
    "# Уралова Е.А.\n",
    "ИУ5-65Б\n",
    "Вариант №16"
   ]
  },
  {
   "cell_type": "markdown",
   "id": "57efcc0f",
   "metadata": {},
   "source": [
    "Импортируем библиотеки:"
   ]
  },
  {
   "cell_type": "code",
   "execution_count": 1,
   "id": "cabeee23",
   "metadata": {},
   "outputs": [],
   "source": [
    "import numpy as np\n",
    "import pandas as pd\n",
    "from typing import Dict, Tuple\n",
    "from scipy import stats\n",
    "from IPython.display import Image\n",
    "from sklearn.datasets import load_iris, load_boston\n",
    "from sklearn.model_selection import train_test_split\n",
    "from sklearn.metrics import accuracy_score, balanced_accuracy_score\n",
    "from sklearn.metrics import precision_score, recall_score, f1_score, classification_report\n",
    "from sklearn.metrics import confusion_matrix\n",
    "from sklearn.metrics import mean_absolute_error, mean_squared_error, mean_squared_log_error, median_absolute_error, r2_score \n",
    "from sklearn.metrics import roc_curve, roc_auc_score\n",
    "from sklearn.preprocessing import MinMaxScaler\n",
    "from sklearn.datasets import make_blobs, make_circles\n",
    "from sklearn.model_selection import cross_val_score, cross_validate\n",
    "from sklearn.svm import SVC, NuSVC, LinearSVC, OneClassSVM, SVR, NuSVR, LinearSVR\n",
    "from sklearn.pipeline import make_pipeline\n",
    "from sklearn.model_selection import RandomizedSearchCV\n",
    "from sklearn.ensemble import AdaBoostClassifier\n",
    "from sklearn import svm\n",
    "import seaborn as sns\n",
    "import matplotlib.pyplot as plt\n",
    "%matplotlib inline \n",
    "sns.set(style=\"ticks\")"
   ]
  },
  {
   "cell_type": "code",
   "execution_count": 2,
   "id": "2a6a5c14",
   "metadata": {},
   "outputs": [],
   "source": [
    "data = pd.read_csv('restaurant-scores-lives-standard.csv', sep=\",\")"
   ]
  },
  {
   "cell_type": "code",
   "execution_count": 3,
   "id": "566638fd",
   "metadata": {},
   "outputs": [
    {
     "data": {
      "text/html": [
       "<div>\n",
       "<style scoped>\n",
       "    .dataframe tbody tr th:only-of-type {\n",
       "        vertical-align: middle;\n",
       "    }\n",
       "\n",
       "    .dataframe tbody tr th {\n",
       "        vertical-align: top;\n",
       "    }\n",
       "\n",
       "    .dataframe thead th {\n",
       "        text-align: right;\n",
       "    }\n",
       "</style>\n",
       "<table border=\"1\" class=\"dataframe\">\n",
       "  <thead>\n",
       "    <tr style=\"text-align: right;\">\n",
       "      <th></th>\n",
       "      <th>business_id</th>\n",
       "      <th>business_name</th>\n",
       "      <th>business_address</th>\n",
       "      <th>business_city</th>\n",
       "      <th>business_state</th>\n",
       "      <th>business_postal_code</th>\n",
       "      <th>business_latitude</th>\n",
       "      <th>business_longitude</th>\n",
       "      <th>business_location</th>\n",
       "      <th>business_phone_number</th>\n",
       "      <th>...</th>\n",
       "      <th>inspection_type</th>\n",
       "      <th>violation_id</th>\n",
       "      <th>violation_description</th>\n",
       "      <th>risk_category</th>\n",
       "      <th>Neighborhoods (old)</th>\n",
       "      <th>Police Districts</th>\n",
       "      <th>Supervisor Districts</th>\n",
       "      <th>Fire Prevention Districts</th>\n",
       "      <th>Zip Codes</th>\n",
       "      <th>Analysis Neighborhoods</th>\n",
       "    </tr>\n",
       "  </thead>\n",
       "  <tbody>\n",
       "    <tr>\n",
       "      <th>0</th>\n",
       "      <td>101192</td>\n",
       "      <td>Cochinita #2</td>\n",
       "      <td>2 Marina Blvd Fort Mason</td>\n",
       "      <td>San Francisco</td>\n",
       "      <td>CA</td>\n",
       "      <td>NaN</td>\n",
       "      <td>NaN</td>\n",
       "      <td>NaN</td>\n",
       "      <td>NaN</td>\n",
       "      <td>1.415043e+10</td>\n",
       "      <td>...</td>\n",
       "      <td>New Ownership</td>\n",
       "      <td>NaN</td>\n",
       "      <td>NaN</td>\n",
       "      <td>NaN</td>\n",
       "      <td>NaN</td>\n",
       "      <td>NaN</td>\n",
       "      <td>NaN</td>\n",
       "      <td>NaN</td>\n",
       "      <td>NaN</td>\n",
       "      <td>NaN</td>\n",
       "    </tr>\n",
       "    <tr>\n",
       "      <th>1</th>\n",
       "      <td>97975</td>\n",
       "      <td>BREADBELLY</td>\n",
       "      <td>1408 Clement St</td>\n",
       "      <td>San Francisco</td>\n",
       "      <td>CA</td>\n",
       "      <td>94118</td>\n",
       "      <td>NaN</td>\n",
       "      <td>NaN</td>\n",
       "      <td>NaN</td>\n",
       "      <td>1.415724e+10</td>\n",
       "      <td>...</td>\n",
       "      <td>Routine - Unscheduled</td>\n",
       "      <td>97975_20190725_103124</td>\n",
       "      <td>Inadequately cleaned or sanitized food contact...</td>\n",
       "      <td>Moderate Risk</td>\n",
       "      <td>NaN</td>\n",
       "      <td>NaN</td>\n",
       "      <td>NaN</td>\n",
       "      <td>NaN</td>\n",
       "      <td>NaN</td>\n",
       "      <td>NaN</td>\n",
       "    </tr>\n",
       "    <tr>\n",
       "      <th>2</th>\n",
       "      <td>92982</td>\n",
       "      <td>Great Gold Restaurant</td>\n",
       "      <td>3161 24th St.</td>\n",
       "      <td>San Francisco</td>\n",
       "      <td>CA</td>\n",
       "      <td>94110</td>\n",
       "      <td>NaN</td>\n",
       "      <td>NaN</td>\n",
       "      <td>NaN</td>\n",
       "      <td>NaN</td>\n",
       "      <td>...</td>\n",
       "      <td>New Ownership</td>\n",
       "      <td>NaN</td>\n",
       "      <td>NaN</td>\n",
       "      <td>NaN</td>\n",
       "      <td>NaN</td>\n",
       "      <td>NaN</td>\n",
       "      <td>NaN</td>\n",
       "      <td>NaN</td>\n",
       "      <td>NaN</td>\n",
       "      <td>NaN</td>\n",
       "    </tr>\n",
       "    <tr>\n",
       "      <th>3</th>\n",
       "      <td>101389</td>\n",
       "      <td>HOMAGE</td>\n",
       "      <td>214 CALIFORNIA ST</td>\n",
       "      <td>San Francisco</td>\n",
       "      <td>CA</td>\n",
       "      <td>94111</td>\n",
       "      <td>NaN</td>\n",
       "      <td>NaN</td>\n",
       "      <td>NaN</td>\n",
       "      <td>1.415488e+10</td>\n",
       "      <td>...</td>\n",
       "      <td>New Construction</td>\n",
       "      <td>NaN</td>\n",
       "      <td>NaN</td>\n",
       "      <td>NaN</td>\n",
       "      <td>NaN</td>\n",
       "      <td>NaN</td>\n",
       "      <td>NaN</td>\n",
       "      <td>NaN</td>\n",
       "      <td>NaN</td>\n",
       "      <td>NaN</td>\n",
       "    </tr>\n",
       "    <tr>\n",
       "      <th>4</th>\n",
       "      <td>85986</td>\n",
       "      <td>Pronto Pizza</td>\n",
       "      <td>798 Eddy St</td>\n",
       "      <td>San Francisco</td>\n",
       "      <td>CA</td>\n",
       "      <td>94109</td>\n",
       "      <td>NaN</td>\n",
       "      <td>NaN</td>\n",
       "      <td>NaN</td>\n",
       "      <td>NaN</td>\n",
       "      <td>...</td>\n",
       "      <td>New Ownership</td>\n",
       "      <td>85986_20161011_103114</td>\n",
       "      <td>High risk vermin infestation</td>\n",
       "      <td>High Risk</td>\n",
       "      <td>NaN</td>\n",
       "      <td>NaN</td>\n",
       "      <td>NaN</td>\n",
       "      <td>NaN</td>\n",
       "      <td>NaN</td>\n",
       "      <td>NaN</td>\n",
       "    </tr>\n",
       "  </tbody>\n",
       "</table>\n",
       "<p>5 rows × 23 columns</p>\n",
       "</div>"
      ],
      "text/plain": [
       "   business_id          business_name          business_address  \\\n",
       "0       101192           Cochinita #2  2 Marina Blvd Fort Mason   \n",
       "1        97975             BREADBELLY           1408 Clement St   \n",
       "2        92982  Great Gold Restaurant             3161 24th St.   \n",
       "3       101389                 HOMAGE         214 CALIFORNIA ST   \n",
       "4        85986           Pronto Pizza               798 Eddy St   \n",
       "\n",
       "   business_city business_state business_postal_code  business_latitude  \\\n",
       "0  San Francisco             CA                  NaN                NaN   \n",
       "1  San Francisco             CA                94118                NaN   \n",
       "2  San Francisco             CA                94110                NaN   \n",
       "3  San Francisco             CA                94111                NaN   \n",
       "4  San Francisco             CA                94109                NaN   \n",
       "\n",
       "   business_longitude business_location  business_phone_number  ...  \\\n",
       "0                 NaN               NaN           1.415043e+10  ...   \n",
       "1                 NaN               NaN           1.415724e+10  ...   \n",
       "2                 NaN               NaN                    NaN  ...   \n",
       "3                 NaN               NaN           1.415488e+10  ...   \n",
       "4                 NaN               NaN                    NaN  ...   \n",
       "\n",
       "         inspection_type           violation_id  \\\n",
       "0          New Ownership                    NaN   \n",
       "1  Routine - Unscheduled  97975_20190725_103124   \n",
       "2          New Ownership                    NaN   \n",
       "3       New Construction                    NaN   \n",
       "4          New Ownership  85986_20161011_103114   \n",
       "\n",
       "                               violation_description  risk_category  \\\n",
       "0                                                NaN            NaN   \n",
       "1  Inadequately cleaned or sanitized food contact...  Moderate Risk   \n",
       "2                                                NaN            NaN   \n",
       "3                                                NaN            NaN   \n",
       "4                       High risk vermin infestation      High Risk   \n",
       "\n",
       "  Neighborhoods (old) Police Districts Supervisor Districts  \\\n",
       "0                 NaN              NaN                  NaN   \n",
       "1                 NaN              NaN                  NaN   \n",
       "2                 NaN              NaN                  NaN   \n",
       "3                 NaN              NaN                  NaN   \n",
       "4                 NaN              NaN                  NaN   \n",
       "\n",
       "   Fire Prevention Districts  Zip Codes  Analysis Neighborhoods  \n",
       "0                        NaN        NaN                     NaN  \n",
       "1                        NaN        NaN                     NaN  \n",
       "2                        NaN        NaN                     NaN  \n",
       "3                        NaN        NaN                     NaN  \n",
       "4                        NaN        NaN                     NaN  \n",
       "\n",
       "[5 rows x 23 columns]"
      ]
     },
     "execution_count": 3,
     "metadata": {},
     "output_type": "execute_result"
    }
   ],
   "source": [
    "data.head()"
   ]
  },
  {
   "cell_type": "markdown",
   "id": "caffd8c4",
   "metadata": {},
   "source": [
    "# Обработка пропусков"
   ]
  },
  {
   "cell_type": "code",
   "execution_count": 4,
   "id": "46a99608",
   "metadata": {},
   "outputs": [
    {
     "data": {
      "text/plain": [
       "business_id                      0\n",
       "business_name                    0\n",
       "business_address                 0\n",
       "business_city                    0\n",
       "business_state                   0\n",
       "business_postal_code          1018\n",
       "business_latitude            19556\n",
       "business_longitude           19556\n",
       "business_location            19556\n",
       "business_phone_number        36938\n",
       "inspection_id                    0\n",
       "inspection_date                  0\n",
       "inspection_score             13610\n",
       "inspection_type                  0\n",
       "violation_id                 12870\n",
       "violation_description        12870\n",
       "risk_category                12870\n",
       "Neighborhoods (old)          19594\n",
       "Police Districts             19594\n",
       "Supervisor Districts         19594\n",
       "Fire Prevention Districts    19646\n",
       "Zip Codes                    19576\n",
       "Analysis Neighborhoods       19594\n",
       "dtype: int64"
      ]
     },
     "execution_count": 4,
     "metadata": {},
     "output_type": "execute_result"
    }
   ],
   "source": [
    "data.isnull().sum()"
   ]
  },
  {
   "cell_type": "code",
   "execution_count": 5,
   "id": "2e91ccd3",
   "metadata": {},
   "outputs": [
    {
     "data": {
      "text/plain": [
       "(53973, 23)"
      ]
     },
     "execution_count": 5,
     "metadata": {},
     "output_type": "execute_result"
    }
   ],
   "source": [
    "data.shape"
   ]
  },
  {
   "cell_type": "code",
   "execution_count": 6,
   "id": "cc236281",
   "metadata": {},
   "outputs": [
    {
     "name": "stdout",
     "output_type": "stream",
     "text": [
      "Всего строк: 53973\n"
     ]
    }
   ],
   "source": [
    "total_count = data.shape[0]\n",
    "print('Всего строк: {}'.format(total_count))"
   ]
  },
  {
   "cell_type": "code",
   "execution_count": 7,
   "id": "c8ddeddd",
   "metadata": {},
   "outputs": [
    {
     "data": {
      "text/plain": [
       "(6566, 23)"
      ]
     },
     "execution_count": 7,
     "metadata": {},
     "output_type": "execute_result"
    }
   ],
   "source": [
    "data = data.dropna(axis=0, how='any')\n",
    "data.shape"
   ]
  },
  {
   "cell_type": "code",
   "execution_count": 8,
   "id": "27c8e9c9",
   "metadata": {},
   "outputs": [
    {
     "data": {
      "text/html": [
       "<div>\n",
       "<style scoped>\n",
       "    .dataframe tbody tr th:only-of-type {\n",
       "        vertical-align: middle;\n",
       "    }\n",
       "\n",
       "    .dataframe tbody tr th {\n",
       "        vertical-align: top;\n",
       "    }\n",
       "\n",
       "    .dataframe thead th {\n",
       "        text-align: right;\n",
       "    }\n",
       "</style>\n",
       "<table border=\"1\" class=\"dataframe\">\n",
       "  <thead>\n",
       "    <tr style=\"text-align: right;\">\n",
       "      <th></th>\n",
       "      <th>business_id</th>\n",
       "      <th>business_name</th>\n",
       "      <th>business_address</th>\n",
       "      <th>business_city</th>\n",
       "      <th>business_state</th>\n",
       "      <th>business_postal_code</th>\n",
       "      <th>business_latitude</th>\n",
       "      <th>business_longitude</th>\n",
       "      <th>business_location</th>\n",
       "      <th>business_phone_number</th>\n",
       "      <th>...</th>\n",
       "      <th>inspection_type</th>\n",
       "      <th>violation_id</th>\n",
       "      <th>violation_description</th>\n",
       "      <th>risk_category</th>\n",
       "      <th>Neighborhoods (old)</th>\n",
       "      <th>Police Districts</th>\n",
       "      <th>Supervisor Districts</th>\n",
       "      <th>Fire Prevention Districts</th>\n",
       "      <th>Zip Codes</th>\n",
       "      <th>Analysis Neighborhoods</th>\n",
       "    </tr>\n",
       "  </thead>\n",
       "  <tbody>\n",
       "    <tr>\n",
       "      <th>11</th>\n",
       "      <td>4794</td>\n",
       "      <td>VICTOR'S</td>\n",
       "      <td>210 TOWNSEND St</td>\n",
       "      <td>San Francisco</td>\n",
       "      <td>CA</td>\n",
       "      <td>94107</td>\n",
       "      <td>37.778634</td>\n",
       "      <td>-122.393089</td>\n",
       "      <td>{'type': 'Point', 'coordinates': [-122.393089,...</td>\n",
       "      <td>1.415561e+10</td>\n",
       "      <td>...</td>\n",
       "      <td>Routine - Unscheduled</td>\n",
       "      <td>4794_20181030_103138</td>\n",
       "      <td>Improper storage use or identification of toxi...</td>\n",
       "      <td>Low Risk</td>\n",
       "      <td>34.0</td>\n",
       "      <td>2.0</td>\n",
       "      <td>9.0</td>\n",
       "      <td>6.0</td>\n",
       "      <td>28856.0</td>\n",
       "      <td>34.0</td>\n",
       "    </tr>\n",
       "    <tr>\n",
       "      <th>172</th>\n",
       "      <td>63652</td>\n",
       "      <td>SFDH - Banquet Main Kitchen</td>\n",
       "      <td>450 Powell St 2nd Floor</td>\n",
       "      <td>San Francisco</td>\n",
       "      <td>CA</td>\n",
       "      <td>94102</td>\n",
       "      <td>37.788918</td>\n",
       "      <td>-122.408507</td>\n",
       "      <td>{'type': 'Point', 'coordinates': [-122.408507,...</td>\n",
       "      <td>1.415540e+10</td>\n",
       "      <td>...</td>\n",
       "      <td>Routine - Unscheduled</td>\n",
       "      <td>63652_20190904_103133</td>\n",
       "      <td>Foods not protected from contamination</td>\n",
       "      <td>Moderate Risk</td>\n",
       "      <td>6.0</td>\n",
       "      <td>1.0</td>\n",
       "      <td>10.0</td>\n",
       "      <td>5.0</td>\n",
       "      <td>28852.0</td>\n",
       "      <td>8.0</td>\n",
       "    </tr>\n",
       "    <tr>\n",
       "      <th>327</th>\n",
       "      <td>328</td>\n",
       "      <td>Miyako</td>\n",
       "      <td>1470 Fillmore St</td>\n",
       "      <td>San Francisco</td>\n",
       "      <td>CA</td>\n",
       "      <td>94115</td>\n",
       "      <td>37.783017</td>\n",
       "      <td>-122.432584</td>\n",
       "      <td>{'type': 'Point', 'coordinates': [-122.432584,...</td>\n",
       "      <td>1.415554e+10</td>\n",
       "      <td>...</td>\n",
       "      <td>Routine - Unscheduled</td>\n",
       "      <td>328_20161122_103103</td>\n",
       "      <td>High risk food holding temperature</td>\n",
       "      <td>High Risk</td>\n",
       "      <td>41.0</td>\n",
       "      <td>9.0</td>\n",
       "      <td>11.0</td>\n",
       "      <td>15.0</td>\n",
       "      <td>29490.0</td>\n",
       "      <td>39.0</td>\n",
       "    </tr>\n",
       "    <tr>\n",
       "      <th>372</th>\n",
       "      <td>2684</td>\n",
       "      <td>ERIC'S RESTAURANT</td>\n",
       "      <td>1500 Church St</td>\n",
       "      <td>San Francisco</td>\n",
       "      <td>CA</td>\n",
       "      <td>94131</td>\n",
       "      <td>37.746759</td>\n",
       "      <td>-122.426995</td>\n",
       "      <td>{'type': 'Point', 'coordinates': [-122.426995,...</td>\n",
       "      <td>1.415528e+10</td>\n",
       "      <td>...</td>\n",
       "      <td>Routine - Unscheduled</td>\n",
       "      <td>2684_20190715_103109</td>\n",
       "      <td>Unclean or unsanitary food contact surfaces</td>\n",
       "      <td>High Risk</td>\n",
       "      <td>22.0</td>\n",
       "      <td>7.0</td>\n",
       "      <td>5.0</td>\n",
       "      <td>2.0</td>\n",
       "      <td>63.0</td>\n",
       "      <td>22.0</td>\n",
       "    </tr>\n",
       "    <tr>\n",
       "      <th>397</th>\n",
       "      <td>328</td>\n",
       "      <td>Miyako</td>\n",
       "      <td>1470 Fillmore St</td>\n",
       "      <td>San Francisco</td>\n",
       "      <td>CA</td>\n",
       "      <td>94115</td>\n",
       "      <td>37.783017</td>\n",
       "      <td>-122.432584</td>\n",
       "      <td>{'type': 'Point', 'coordinates': [-122.432584,...</td>\n",
       "      <td>1.415554e+10</td>\n",
       "      <td>...</td>\n",
       "      <td>Routine - Unscheduled</td>\n",
       "      <td>328_20161122_103149</td>\n",
       "      <td>Wiping cloths not clean or properly stored or ...</td>\n",
       "      <td>Low Risk</td>\n",
       "      <td>41.0</td>\n",
       "      <td>9.0</td>\n",
       "      <td>11.0</td>\n",
       "      <td>15.0</td>\n",
       "      <td>29490.0</td>\n",
       "      <td>39.0</td>\n",
       "    </tr>\n",
       "  </tbody>\n",
       "</table>\n",
       "<p>5 rows × 23 columns</p>\n",
       "</div>"
      ],
      "text/plain": [
       "     business_id                business_name         business_address  \\\n",
       "11          4794                     VICTOR'S          210 TOWNSEND St   \n",
       "172        63652  SFDH - Banquet Main Kitchen  450 Powell St 2nd Floor   \n",
       "327          328                       Miyako         1470 Fillmore St   \n",
       "372         2684            ERIC'S RESTAURANT           1500 Church St   \n",
       "397          328                       Miyako         1470 Fillmore St   \n",
       "\n",
       "     business_city business_state business_postal_code  business_latitude  \\\n",
       "11   San Francisco             CA                94107          37.778634   \n",
       "172  San Francisco             CA                94102          37.788918   \n",
       "327  San Francisco             CA                94115          37.783017   \n",
       "372  San Francisco             CA                94131          37.746759   \n",
       "397  San Francisco             CA                94115          37.783017   \n",
       "\n",
       "     business_longitude                                  business_location  \\\n",
       "11          -122.393089  {'type': 'Point', 'coordinates': [-122.393089,...   \n",
       "172         -122.408507  {'type': 'Point', 'coordinates': [-122.408507,...   \n",
       "327         -122.432584  {'type': 'Point', 'coordinates': [-122.432584,...   \n",
       "372         -122.426995  {'type': 'Point', 'coordinates': [-122.426995,...   \n",
       "397         -122.432584  {'type': 'Point', 'coordinates': [-122.432584,...   \n",
       "\n",
       "     business_phone_number  ...        inspection_type           violation_id  \\\n",
       "11            1.415561e+10  ...  Routine - Unscheduled   4794_20181030_103138   \n",
       "172           1.415540e+10  ...  Routine - Unscheduled  63652_20190904_103133   \n",
       "327           1.415554e+10  ...  Routine - Unscheduled    328_20161122_103103   \n",
       "372           1.415528e+10  ...  Routine - Unscheduled   2684_20190715_103109   \n",
       "397           1.415554e+10  ...  Routine - Unscheduled    328_20161122_103149   \n",
       "\n",
       "                                 violation_description  risk_category  \\\n",
       "11   Improper storage use or identification of toxi...       Low Risk   \n",
       "172             Foods not protected from contamination  Moderate Risk   \n",
       "327                 High risk food holding temperature      High Risk   \n",
       "372        Unclean or unsanitary food contact surfaces      High Risk   \n",
       "397  Wiping cloths not clean or properly stored or ...       Low Risk   \n",
       "\n",
       "    Neighborhoods (old) Police Districts Supervisor Districts  \\\n",
       "11                 34.0              2.0                  9.0   \n",
       "172                 6.0              1.0                 10.0   \n",
       "327                41.0              9.0                 11.0   \n",
       "372                22.0              7.0                  5.0   \n",
       "397                41.0              9.0                 11.0   \n",
       "\n",
       "     Fire Prevention Districts  Zip Codes  Analysis Neighborhoods  \n",
       "11                         6.0    28856.0                    34.0  \n",
       "172                        5.0    28852.0                     8.0  \n",
       "327                       15.0    29490.0                    39.0  \n",
       "372                        2.0       63.0                    22.0  \n",
       "397                       15.0    29490.0                    39.0  \n",
       "\n",
       "[5 rows x 23 columns]"
      ]
     },
     "execution_count": 8,
     "metadata": {},
     "output_type": "execute_result"
    }
   ],
   "source": [
    "data.head()"
   ]
  },
  {
   "cell_type": "markdown",
   "id": "36469e79",
   "metadata": {},
   "source": [
    "# Кодируем категориальные признаки"
   ]
  },
  {
   "cell_type": "markdown",
   "id": "c7313593",
   "metadata": {},
   "source": [
    "Удалим колонки, которые не влияют на целевой признак:"
   ]
  },
  {
   "cell_type": "code",
   "execution_count": 9,
   "id": "9279bc6c",
   "metadata": {},
   "outputs": [],
   "source": [
    "data = data.drop(columns='business_name')\n",
    "data = data.drop(columns='business_address')\n",
    "data = data.drop(columns='business_city')\n",
    "data = data.drop(columns='business_state')\n",
    "data = data.drop(columns='business_location')\n",
    "data = data.drop(columns='business_phone_number')\n",
    "data = data.drop(columns='violation_description')"
   ]
  },
  {
   "cell_type": "code",
   "execution_count": 10,
   "id": "89e4df95",
   "metadata": {},
   "outputs": [
    {
     "data": {
      "text/plain": [
       "(6566, 16)"
      ]
     },
     "execution_count": 10,
     "metadata": {},
     "output_type": "execute_result"
    }
   ],
   "source": [
    "data.shape"
   ]
  },
  {
   "cell_type": "code",
   "execution_count": 11,
   "id": "013533d0",
   "metadata": {},
   "outputs": [
    {
     "data": {
      "text/html": [
       "<div>\n",
       "<style scoped>\n",
       "    .dataframe tbody tr th:only-of-type {\n",
       "        vertical-align: middle;\n",
       "    }\n",
       "\n",
       "    .dataframe tbody tr th {\n",
       "        vertical-align: top;\n",
       "    }\n",
       "\n",
       "    .dataframe thead th {\n",
       "        text-align: right;\n",
       "    }\n",
       "</style>\n",
       "<table border=\"1\" class=\"dataframe\">\n",
       "  <thead>\n",
       "    <tr style=\"text-align: right;\">\n",
       "      <th></th>\n",
       "      <th>business_id</th>\n",
       "      <th>business_postal_code</th>\n",
       "      <th>business_latitude</th>\n",
       "      <th>business_longitude</th>\n",
       "      <th>inspection_id</th>\n",
       "      <th>inspection_date</th>\n",
       "      <th>inspection_score</th>\n",
       "      <th>inspection_type</th>\n",
       "      <th>violation_id</th>\n",
       "      <th>risk_category</th>\n",
       "      <th>Neighborhoods (old)</th>\n",
       "      <th>Police Districts</th>\n",
       "      <th>Supervisor Districts</th>\n",
       "      <th>Fire Prevention Districts</th>\n",
       "      <th>Zip Codes</th>\n",
       "      <th>Analysis Neighborhoods</th>\n",
       "    </tr>\n",
       "  </thead>\n",
       "  <tbody>\n",
       "    <tr>\n",
       "      <th>11</th>\n",
       "      <td>4794</td>\n",
       "      <td>94107</td>\n",
       "      <td>37.778634</td>\n",
       "      <td>-122.393089</td>\n",
       "      <td>4794_20181030</td>\n",
       "      <td>2018-10-30T00:00:00.000</td>\n",
       "      <td>71.0</td>\n",
       "      <td>Routine - Unscheduled</td>\n",
       "      <td>4794_20181030_103138</td>\n",
       "      <td>Low Risk</td>\n",
       "      <td>34.0</td>\n",
       "      <td>2.0</td>\n",
       "      <td>9.0</td>\n",
       "      <td>6.0</td>\n",
       "      <td>28856.0</td>\n",
       "      <td>34.0</td>\n",
       "    </tr>\n",
       "    <tr>\n",
       "      <th>172</th>\n",
       "      <td>63652</td>\n",
       "      <td>94102</td>\n",
       "      <td>37.788918</td>\n",
       "      <td>-122.408507</td>\n",
       "      <td>63652_20190904</td>\n",
       "      <td>2019-09-04T00:00:00.000</td>\n",
       "      <td>94.0</td>\n",
       "      <td>Routine - Unscheduled</td>\n",
       "      <td>63652_20190904_103133</td>\n",
       "      <td>Moderate Risk</td>\n",
       "      <td>6.0</td>\n",
       "      <td>1.0</td>\n",
       "      <td>10.0</td>\n",
       "      <td>5.0</td>\n",
       "      <td>28852.0</td>\n",
       "      <td>8.0</td>\n",
       "    </tr>\n",
       "    <tr>\n",
       "      <th>327</th>\n",
       "      <td>328</td>\n",
       "      <td>94115</td>\n",
       "      <td>37.783017</td>\n",
       "      <td>-122.432584</td>\n",
       "      <td>328_20161122</td>\n",
       "      <td>2016-11-22T00:00:00.000</td>\n",
       "      <td>81.0</td>\n",
       "      <td>Routine - Unscheduled</td>\n",
       "      <td>328_20161122_103103</td>\n",
       "      <td>High Risk</td>\n",
       "      <td>41.0</td>\n",
       "      <td>9.0</td>\n",
       "      <td>11.0</td>\n",
       "      <td>15.0</td>\n",
       "      <td>29490.0</td>\n",
       "      <td>39.0</td>\n",
       "    </tr>\n",
       "    <tr>\n",
       "      <th>372</th>\n",
       "      <td>2684</td>\n",
       "      <td>94131</td>\n",
       "      <td>37.746759</td>\n",
       "      <td>-122.426995</td>\n",
       "      <td>2684_20190715</td>\n",
       "      <td>2019-07-15T00:00:00.000</td>\n",
       "      <td>87.0</td>\n",
       "      <td>Routine - Unscheduled</td>\n",
       "      <td>2684_20190715_103109</td>\n",
       "      <td>High Risk</td>\n",
       "      <td>22.0</td>\n",
       "      <td>7.0</td>\n",
       "      <td>5.0</td>\n",
       "      <td>2.0</td>\n",
       "      <td>63.0</td>\n",
       "      <td>22.0</td>\n",
       "    </tr>\n",
       "    <tr>\n",
       "      <th>397</th>\n",
       "      <td>328</td>\n",
       "      <td>94115</td>\n",
       "      <td>37.783017</td>\n",
       "      <td>-122.432584</td>\n",
       "      <td>328_20161122</td>\n",
       "      <td>2016-11-22T00:00:00.000</td>\n",
       "      <td>81.0</td>\n",
       "      <td>Routine - Unscheduled</td>\n",
       "      <td>328_20161122_103149</td>\n",
       "      <td>Low Risk</td>\n",
       "      <td>41.0</td>\n",
       "      <td>9.0</td>\n",
       "      <td>11.0</td>\n",
       "      <td>15.0</td>\n",
       "      <td>29490.0</td>\n",
       "      <td>39.0</td>\n",
       "    </tr>\n",
       "  </tbody>\n",
       "</table>\n",
       "</div>"
      ],
      "text/plain": [
       "     business_id business_postal_code  business_latitude  business_longitude  \\\n",
       "11          4794                94107          37.778634         -122.393089   \n",
       "172        63652                94102          37.788918         -122.408507   \n",
       "327          328                94115          37.783017         -122.432584   \n",
       "372         2684                94131          37.746759         -122.426995   \n",
       "397          328                94115          37.783017         -122.432584   \n",
       "\n",
       "      inspection_id          inspection_date  inspection_score  \\\n",
       "11    4794_20181030  2018-10-30T00:00:00.000              71.0   \n",
       "172  63652_20190904  2019-09-04T00:00:00.000              94.0   \n",
       "327    328_20161122  2016-11-22T00:00:00.000              81.0   \n",
       "372   2684_20190715  2019-07-15T00:00:00.000              87.0   \n",
       "397    328_20161122  2016-11-22T00:00:00.000              81.0   \n",
       "\n",
       "           inspection_type           violation_id  risk_category  \\\n",
       "11   Routine - Unscheduled   4794_20181030_103138       Low Risk   \n",
       "172  Routine - Unscheduled  63652_20190904_103133  Moderate Risk   \n",
       "327  Routine - Unscheduled    328_20161122_103103      High Risk   \n",
       "372  Routine - Unscheduled   2684_20190715_103109      High Risk   \n",
       "397  Routine - Unscheduled    328_20161122_103149       Low Risk   \n",
       "\n",
       "     Neighborhoods (old)  Police Districts  Supervisor Districts  \\\n",
       "11                  34.0               2.0                   9.0   \n",
       "172                  6.0               1.0                  10.0   \n",
       "327                 41.0               9.0                  11.0   \n",
       "372                 22.0               7.0                   5.0   \n",
       "397                 41.0               9.0                  11.0   \n",
       "\n",
       "     Fire Prevention Districts  Zip Codes  Analysis Neighborhoods  \n",
       "11                         6.0    28856.0                    34.0  \n",
       "172                        5.0    28852.0                     8.0  \n",
       "327                       15.0    29490.0                    39.0  \n",
       "372                        2.0       63.0                    22.0  \n",
       "397                       15.0    29490.0                    39.0  "
      ]
     },
     "execution_count": 11,
     "metadata": {},
     "output_type": "execute_result"
    }
   ],
   "source": [
    "data.head()"
   ]
  },
  {
   "cell_type": "code",
   "execution_count": 12,
   "id": "0813310f",
   "metadata": {},
   "outputs": [
    {
     "data": {
      "text/plain": [
       "business_id                    int64\n",
       "business_postal_code          object\n",
       "business_latitude            float64\n",
       "business_longitude           float64\n",
       "inspection_id                 object\n",
       "inspection_date               object\n",
       "inspection_score             float64\n",
       "inspection_type               object\n",
       "violation_id                  object\n",
       "risk_category                 object\n",
       "Neighborhoods (old)          float64\n",
       "Police Districts             float64\n",
       "Supervisor Districts         float64\n",
       "Fire Prevention Districts    float64\n",
       "Zip Codes                    float64\n",
       "Analysis Neighborhoods       float64\n",
       "dtype: object"
      ]
     },
     "execution_count": 12,
     "metadata": {},
     "output_type": "execute_result"
    }
   ],
   "source": [
    "data.dtypes"
   ]
  },
  {
   "cell_type": "markdown",
   "id": "c8e157de",
   "metadata": {},
   "source": [
    "Кодируем категориальные признаки:"
   ]
  },
  {
   "cell_type": "code",
   "execution_count": 13,
   "id": "5bedbe87",
   "metadata": {},
   "outputs": [
    {
     "data": {
      "text/html": [
       "<div>\n",
       "<style scoped>\n",
       "    .dataframe tbody tr th:only-of-type {\n",
       "        vertical-align: middle;\n",
       "    }\n",
       "\n",
       "    .dataframe tbody tr th {\n",
       "        vertical-align: top;\n",
       "    }\n",
       "\n",
       "    .dataframe thead th {\n",
       "        text-align: right;\n",
       "    }\n",
       "</style>\n",
       "<table border=\"1\" class=\"dataframe\">\n",
       "  <thead>\n",
       "    <tr style=\"text-align: right;\">\n",
       "      <th></th>\n",
       "      <th>business_id</th>\n",
       "      <th>business_postal_code</th>\n",
       "      <th>business_latitude</th>\n",
       "      <th>business_longitude</th>\n",
       "      <th>inspection_id</th>\n",
       "      <th>inspection_date</th>\n",
       "      <th>inspection_score</th>\n",
       "      <th>inspection_type</th>\n",
       "      <th>violation_id</th>\n",
       "      <th>risk_category</th>\n",
       "      <th>Neighborhoods (old)</th>\n",
       "      <th>Police Districts</th>\n",
       "      <th>Supervisor Districts</th>\n",
       "      <th>Fire Prevention Districts</th>\n",
       "      <th>Zip Codes</th>\n",
       "      <th>Analysis Neighborhoods</th>\n",
       "    </tr>\n",
       "  </thead>\n",
       "  <tbody>\n",
       "    <tr>\n",
       "      <th>11</th>\n",
       "      <td>4794</td>\n",
       "      <td>5</td>\n",
       "      <td>37.778634</td>\n",
       "      <td>-122.393089</td>\n",
       "      <td>829</td>\n",
       "      <td>440</td>\n",
       "      <td>71.0</td>\n",
       "      <td>0</td>\n",
       "      <td>2734</td>\n",
       "      <td>1</td>\n",
       "      <td>34.0</td>\n",
       "      <td>2.0</td>\n",
       "      <td>9.0</td>\n",
       "      <td>6.0</td>\n",
       "      <td>28856.0</td>\n",
       "      <td>34.0</td>\n",
       "    </tr>\n",
       "    <tr>\n",
       "      <th>172</th>\n",
       "      <td>63652</td>\n",
       "      <td>1</td>\n",
       "      <td>37.788918</td>\n",
       "      <td>-122.408507</td>\n",
       "      <td>1335</td>\n",
       "      <td>604</td>\n",
       "      <td>94.0</td>\n",
       "      <td>0</td>\n",
       "      <td>3895</td>\n",
       "      <td>2</td>\n",
       "      <td>6.0</td>\n",
       "      <td>1.0</td>\n",
       "      <td>10.0</td>\n",
       "      <td>5.0</td>\n",
       "      <td>28852.0</td>\n",
       "      <td>8.0</td>\n",
       "    </tr>\n",
       "    <tr>\n",
       "      <th>327</th>\n",
       "      <td>328</td>\n",
       "      <td>13</td>\n",
       "      <td>37.783017</td>\n",
       "      <td>-122.432584</td>\n",
       "      <td>564</td>\n",
       "      <td>28</td>\n",
       "      <td>81.0</td>\n",
       "      <td>0</td>\n",
       "      <td>1925</td>\n",
       "      <td>0</td>\n",
       "      <td>41.0</td>\n",
       "      <td>9.0</td>\n",
       "      <td>11.0</td>\n",
       "      <td>15.0</td>\n",
       "      <td>29490.0</td>\n",
       "      <td>39.0</td>\n",
       "    </tr>\n",
       "    <tr>\n",
       "      <th>372</th>\n",
       "      <td>2684</td>\n",
       "      <td>22</td>\n",
       "      <td>37.746759</td>\n",
       "      <td>-122.426995</td>\n",
       "      <td>405</td>\n",
       "      <td>576</td>\n",
       "      <td>87.0</td>\n",
       "      <td>0</td>\n",
       "      <td>1406</td>\n",
       "      <td>0</td>\n",
       "      <td>22.0</td>\n",
       "      <td>7.0</td>\n",
       "      <td>5.0</td>\n",
       "      <td>2.0</td>\n",
       "      <td>63.0</td>\n",
       "      <td>22.0</td>\n",
       "    </tr>\n",
       "    <tr>\n",
       "      <th>397</th>\n",
       "      <td>328</td>\n",
       "      <td>13</td>\n",
       "      <td>37.783017</td>\n",
       "      <td>-122.432584</td>\n",
       "      <td>564</td>\n",
       "      <td>28</td>\n",
       "      <td>81.0</td>\n",
       "      <td>0</td>\n",
       "      <td>1929</td>\n",
       "      <td>1</td>\n",
       "      <td>41.0</td>\n",
       "      <td>9.0</td>\n",
       "      <td>11.0</td>\n",
       "      <td>15.0</td>\n",
       "      <td>29490.0</td>\n",
       "      <td>39.0</td>\n",
       "    </tr>\n",
       "  </tbody>\n",
       "</table>\n",
       "</div>"
      ],
      "text/plain": [
       "     business_id  business_postal_code  business_latitude  business_longitude  \\\n",
       "11          4794                     5          37.778634         -122.393089   \n",
       "172        63652                     1          37.788918         -122.408507   \n",
       "327          328                    13          37.783017         -122.432584   \n",
       "372         2684                    22          37.746759         -122.426995   \n",
       "397          328                    13          37.783017         -122.432584   \n",
       "\n",
       "     inspection_id  inspection_date  inspection_score  inspection_type  \\\n",
       "11             829              440              71.0                0   \n",
       "172           1335              604              94.0                0   \n",
       "327            564               28              81.0                0   \n",
       "372            405              576              87.0                0   \n",
       "397            564               28              81.0                0   \n",
       "\n",
       "     violation_id  risk_category  Neighborhoods (old)  Police Districts  \\\n",
       "11           2734              1                 34.0               2.0   \n",
       "172          3895              2                  6.0               1.0   \n",
       "327          1925              0                 41.0               9.0   \n",
       "372          1406              0                 22.0               7.0   \n",
       "397          1929              1                 41.0               9.0   \n",
       "\n",
       "     Supervisor Districts  Fire Prevention Districts  Zip Codes  \\\n",
       "11                    9.0                        6.0    28856.0   \n",
       "172                  10.0                        5.0    28852.0   \n",
       "327                  11.0                       15.0    29490.0   \n",
       "372                   5.0                        2.0       63.0   \n",
       "397                  11.0                       15.0    29490.0   \n",
       "\n",
       "     Analysis Neighborhoods  \n",
       "11                     34.0  \n",
       "172                     8.0  \n",
       "327                    39.0  \n",
       "372                    22.0  \n",
       "397                    39.0  "
      ]
     },
     "execution_count": 13,
     "metadata": {},
     "output_type": "execute_result"
    }
   ],
   "source": [
    "from sklearn.preprocessing import LabelEncoder, OneHotEncoder\n",
    "le = LabelEncoder()\n",
    "df_int = le.fit_transform(data['business_postal_code'])\n",
    "data['business_postal_code'] = df_int\n",
    "df_int = le.fit_transform(data['inspection_id'])\n",
    "data['inspection_id'] = df_int\n",
    "df_int = le.fit_transform(data['inspection_date'])\n",
    "data['inspection_date'] = df_int\n",
    "df_int = le.fit_transform(data['inspection_type'])\n",
    "data['inspection_type'] = df_int\n",
    "df_int = le.fit_transform(data['violation_id'])\n",
    "data['violation_id'] = df_int\n",
    "df_int = le.fit_transform(data['risk_category'])\n",
    "data['risk_category'] = df_int\n",
    "data.head()"
   ]
  },
  {
   "cell_type": "markdown",
   "id": "fb1f3c6f",
   "metadata": {},
   "source": [
    "Масштабируем числовые данные:"
   ]
  },
  {
   "cell_type": "code",
   "execution_count": 14,
   "id": "ffede983",
   "metadata": {},
   "outputs": [
    {
     "data": {
      "text/html": [
       "<div>\n",
       "<style scoped>\n",
       "    .dataframe tbody tr th:only-of-type {\n",
       "        vertical-align: middle;\n",
       "    }\n",
       "\n",
       "    .dataframe tbody tr th {\n",
       "        vertical-align: top;\n",
       "    }\n",
       "\n",
       "    .dataframe thead th {\n",
       "        text-align: right;\n",
       "    }\n",
       "</style>\n",
       "<table border=\"1\" class=\"dataframe\">\n",
       "  <thead>\n",
       "    <tr style=\"text-align: right;\">\n",
       "      <th></th>\n",
       "      <th>business_id</th>\n",
       "      <th>business_postal_code</th>\n",
       "      <th>business_latitude</th>\n",
       "      <th>business_longitude</th>\n",
       "      <th>inspection_id</th>\n",
       "      <th>inspection_date</th>\n",
       "      <th>inspection_score</th>\n",
       "      <th>inspection_type</th>\n",
       "      <th>violation_id</th>\n",
       "      <th>risk_category</th>\n",
       "      <th>Neighborhoods (old)</th>\n",
       "      <th>Police Districts</th>\n",
       "      <th>Supervisor Districts</th>\n",
       "      <th>Fire Prevention Districts</th>\n",
       "      <th>Zip Codes</th>\n",
       "      <th>Analysis Neighborhoods</th>\n",
       "    </tr>\n",
       "  </thead>\n",
       "  <tbody>\n",
       "    <tr>\n",
       "      <th>11</th>\n",
       "      <td>0.065966</td>\n",
       "      <td>5</td>\n",
       "      <td>0.700222</td>\n",
       "      <td>0.903650</td>\n",
       "      <td>829</td>\n",
       "      <td>440</td>\n",
       "      <td>0.480769</td>\n",
       "      <td>0</td>\n",
       "      <td>2734</td>\n",
       "      <td>1</td>\n",
       "      <td>0.825</td>\n",
       "      <td>0.111111</td>\n",
       "      <td>0.8</td>\n",
       "      <td>0.357143</td>\n",
       "      <td>0.978395</td>\n",
       "      <td>0.825</td>\n",
       "    </tr>\n",
       "    <tr>\n",
       "      <th>172</th>\n",
       "      <td>0.885088</td>\n",
       "      <td>1</td>\n",
       "      <td>0.803468</td>\n",
       "      <td>0.784522</td>\n",
       "      <td>1335</td>\n",
       "      <td>604</td>\n",
       "      <td>0.923077</td>\n",
       "      <td>0</td>\n",
       "      <td>3895</td>\n",
       "      <td>2</td>\n",
       "      <td>0.125</td>\n",
       "      <td>0.000000</td>\n",
       "      <td>0.9</td>\n",
       "      <td>0.285714</td>\n",
       "      <td>0.978259</td>\n",
       "      <td>0.175</td>\n",
       "    </tr>\n",
       "    <tr>\n",
       "      <th>327</th>\n",
       "      <td>0.003813</td>\n",
       "      <td>13</td>\n",
       "      <td>0.744225</td>\n",
       "      <td>0.598490</td>\n",
       "      <td>564</td>\n",
       "      <td>28</td>\n",
       "      <td>0.673077</td>\n",
       "      <td>0</td>\n",
       "      <td>1925</td>\n",
       "      <td>0</td>\n",
       "      <td>1.000</td>\n",
       "      <td>0.888889</td>\n",
       "      <td>1.0</td>\n",
       "      <td>1.000000</td>\n",
       "      <td>0.999932</td>\n",
       "      <td>0.950</td>\n",
       "    </tr>\n",
       "    <tr>\n",
       "      <th>372</th>\n",
       "      <td>0.036601</td>\n",
       "      <td>22</td>\n",
       "      <td>0.380214</td>\n",
       "      <td>0.641674</td>\n",
       "      <td>405</td>\n",
       "      <td>576</td>\n",
       "      <td>0.788462</td>\n",
       "      <td>0</td>\n",
       "      <td>1406</td>\n",
       "      <td>0</td>\n",
       "      <td>0.525</td>\n",
       "      <td>0.666667</td>\n",
       "      <td>0.4</td>\n",
       "      <td>0.071429</td>\n",
       "      <td>0.000306</td>\n",
       "      <td>0.525</td>\n",
       "    </tr>\n",
       "    <tr>\n",
       "      <th>397</th>\n",
       "      <td>0.003813</td>\n",
       "      <td>13</td>\n",
       "      <td>0.744225</td>\n",
       "      <td>0.598490</td>\n",
       "      <td>564</td>\n",
       "      <td>28</td>\n",
       "      <td>0.673077</td>\n",
       "      <td>0</td>\n",
       "      <td>1929</td>\n",
       "      <td>1</td>\n",
       "      <td>1.000</td>\n",
       "      <td>0.888889</td>\n",
       "      <td>1.0</td>\n",
       "      <td>1.000000</td>\n",
       "      <td>0.999932</td>\n",
       "      <td>0.950</td>\n",
       "    </tr>\n",
       "  </tbody>\n",
       "</table>\n",
       "</div>"
      ],
      "text/plain": [
       "     business_id  business_postal_code  business_latitude  business_longitude  \\\n",
       "11      0.065966                     5           0.700222            0.903650   \n",
       "172     0.885088                     1           0.803468            0.784522   \n",
       "327     0.003813                    13           0.744225            0.598490   \n",
       "372     0.036601                    22           0.380214            0.641674   \n",
       "397     0.003813                    13           0.744225            0.598490   \n",
       "\n",
       "     inspection_id  inspection_date  inspection_score  inspection_type  \\\n",
       "11             829              440          0.480769                0   \n",
       "172           1335              604          0.923077                0   \n",
       "327            564               28          0.673077                0   \n",
       "372            405              576          0.788462                0   \n",
       "397            564               28          0.673077                0   \n",
       "\n",
       "     violation_id  risk_category  Neighborhoods (old)  Police Districts  \\\n",
       "11           2734              1                0.825          0.111111   \n",
       "172          3895              2                0.125          0.000000   \n",
       "327          1925              0                1.000          0.888889   \n",
       "372          1406              0                0.525          0.666667   \n",
       "397          1929              1                1.000          0.888889   \n",
       "\n",
       "     Supervisor Districts  Fire Prevention Districts  Zip Codes  \\\n",
       "11                    0.8                   0.357143   0.978395   \n",
       "172                   0.9                   0.285714   0.978259   \n",
       "327                   1.0                   1.000000   0.999932   \n",
       "372                   0.4                   0.071429   0.000306   \n",
       "397                   1.0                   1.000000   0.999932   \n",
       "\n",
       "     Analysis Neighborhoods  \n",
       "11                    0.825  \n",
       "172                   0.175  \n",
       "327                   0.950  \n",
       "372                   0.525  \n",
       "397                   0.950  "
      ]
     },
     "execution_count": 14,
     "metadata": {},
     "output_type": "execute_result"
    }
   ],
   "source": [
    "sc1 = MinMaxScaler()\n",
    "data['business_id'] = sc1.fit_transform(data[['business_id']])\n",
    "data['business_latitude'] = sc1.fit_transform(data[['business_latitude']])\n",
    "data['business_longitude'] = sc1.fit_transform(data[['business_longitude']])\n",
    "data['inspection_score'] = sc1.fit_transform(data[['inspection_score']])\n",
    "data['Neighborhoods (old)'] = sc1.fit_transform(data[['Neighborhoods (old)']])\n",
    "data['Police Districts'] = sc1.fit_transform(data[['Police Districts']])\n",
    "data['Supervisor Districts'] = sc1.fit_transform(data[['Supervisor Districts']])\n",
    "data['Fire Prevention Districts'] = sc1.fit_transform(data[['Fire Prevention Districts']])\n",
    "data['Zip Codes'] = sc1.fit_transform(data[['Zip Codes']])\n",
    "data['Analysis Neighborhoods'] = sc1.fit_transform(data[['Analysis Neighborhoods']])\n",
    "data.head()"
   ]
  },
  {
   "cell_type": "markdown",
   "id": "cdb94958",
   "metadata": {},
   "source": [
    "# Делим выборку на обучающую и тестовую"
   ]
  },
  {
   "cell_type": "code",
   "execution_count": 15,
   "id": "b8d4dea4",
   "metadata": {},
   "outputs": [],
   "source": [
    "target = data['risk_category']\n",
    "data_X_train, data_X_test, data_y_train, data_y_test = train_test_split(\n",
    "    data, target, test_size=0.2, random_state=1)"
   ]
  },
  {
   "cell_type": "code",
   "execution_count": 16,
   "id": "0e5d34e9",
   "metadata": {},
   "outputs": [
    {
     "data": {
      "text/plain": [
       "((5252, 16), (5252,))"
      ]
     },
     "execution_count": 16,
     "metadata": {},
     "output_type": "execute_result"
    }
   ],
   "source": [
    "data_X_train.shape, data_y_train.shape"
   ]
  },
  {
   "cell_type": "code",
   "execution_count": 17,
   "id": "40607a1d",
   "metadata": {},
   "outputs": [
    {
     "data": {
      "text/plain": [
       "((1314, 16), (1314,))"
      ]
     },
     "execution_count": 17,
     "metadata": {},
     "output_type": "execute_result"
    }
   ],
   "source": [
    "data_X_test.shape, data_y_test.shape"
   ]
  },
  {
   "cell_type": "code",
   "execution_count": 18,
   "id": "99935715",
   "metadata": {},
   "outputs": [
    {
     "data": {
      "text/plain": [
       "array([0, 1, 2])"
      ]
     },
     "execution_count": 18,
     "metadata": {},
     "output_type": "execute_result"
    }
   ],
   "source": [
    "np.unique(target)"
   ]
  },
  {
   "cell_type": "markdown",
   "id": "96eabc6a",
   "metadata": {},
   "source": [
    "# Метод опорных векторов"
   ]
  },
  {
   "cell_type": "code",
   "execution_count": 19,
   "id": "393cd4a0",
   "metadata": {},
   "outputs": [
    {
     "name": "stderr",
     "output_type": "stream",
     "text": [
      "C:\\Users\\Asus\\anaconda3\\lib\\site-packages\\sklearn\\svm\\_base.py:985: ConvergenceWarning: Liblinear failed to converge, increase the number of iterations.\n",
      "  warnings.warn(\"Liblinear failed to converge, increase \"\n"
     ]
    },
    {
     "data": {
      "text/plain": [
       "LinearSVC()"
      ]
     },
     "execution_count": 19,
     "metadata": {},
     "output_type": "execute_result"
    }
   ],
   "source": [
    "svr_1 = LinearSVC()\n",
    "svr_1.fit(data_X_train, data_y_train)"
   ]
  },
  {
   "cell_type": "code",
   "execution_count": 20,
   "id": "231295a2",
   "metadata": {},
   "outputs": [],
   "source": [
    "data_y_pred_1 = svr_1.predict(data_X_test)"
   ]
  },
  {
   "cell_type": "code",
   "execution_count": 21,
   "id": "94babc6c",
   "metadata": {},
   "outputs": [
    {
     "data": {
      "text/plain": [
       "0.8599695585996956"
      ]
     },
     "execution_count": 21,
     "metadata": {},
     "output_type": "execute_result"
    }
   ],
   "source": [
    "accuracy_score(data_y_test, data_y_pred_1)"
   ]
  },
  {
   "cell_type": "code",
   "execution_count": 22,
   "id": "4ff873dc",
   "metadata": {},
   "outputs": [
    {
     "data": {
      "text/plain": [
       "0.8599695585996956"
      ]
     },
     "execution_count": 22,
     "metadata": {},
     "output_type": "execute_result"
    }
   ],
   "source": [
    "f1_score(data_y_test, data_y_pred_1, average='micro')"
   ]
  },
  {
   "cell_type": "code",
   "execution_count": 23,
   "id": "a33699ce",
   "metadata": {},
   "outputs": [
    {
     "data": {
      "text/plain": [
       "0.673469111760251"
      ]
     },
     "execution_count": 23,
     "metadata": {},
     "output_type": "execute_result"
    }
   ],
   "source": [
    "f1_score(data_y_test, data_y_pred_1, average='macro')"
   ]
  },
  {
   "cell_type": "code",
   "execution_count": 24,
   "id": "0a1cd659",
   "metadata": {},
   "outputs": [
    {
     "data": {
      "text/plain": [
       "0.811584399054054"
      ]
     },
     "execution_count": 24,
     "metadata": {},
     "output_type": "execute_result"
    }
   ],
   "source": [
    "f1_score(data_y_test, data_y_pred_1, average='weighted')"
   ]
  },
  {
   "cell_type": "code",
   "execution_count": 25,
   "id": "7cff387d",
   "metadata": {},
   "outputs": [
    {
     "name": "stderr",
     "output_type": "stream",
     "text": [
      "C:\\Users\\Asus\\anaconda3\\lib\\site-packages\\sklearn\\svm\\_base.py:985: ConvergenceWarning: Liblinear failed to converge, increase the number of iterations.\n",
      "  warnings.warn(\"Liblinear failed to converge, increase \"\n"
     ]
    },
    {
     "data": {
      "text/plain": [
       "LinearSVC(max_iter=10000)"
      ]
     },
     "execution_count": 25,
     "metadata": {},
     "output_type": "execute_result"
    }
   ],
   "source": [
    "svr_2 = LinearSVC(C=1.0, max_iter=10000)\n",
    "svr_2.fit(data_X_train, data_y_train)"
   ]
  },
  {
   "cell_type": "code",
   "execution_count": 26,
   "id": "97f7acb4",
   "metadata": {},
   "outputs": [],
   "source": [
    "data_y_pred_2 = svr_2.predict(data_X_test)"
   ]
  },
  {
   "cell_type": "code",
   "execution_count": 27,
   "id": "1ddf2e34",
   "metadata": {},
   "outputs": [
    {
     "data": {
      "text/plain": [
       "0.9984779299847792"
      ]
     },
     "execution_count": 27,
     "metadata": {},
     "output_type": "execute_result"
    }
   ],
   "source": [
    "accuracy_score(data_y_test, data_y_pred_2)"
   ]
  },
  {
   "cell_type": "code",
   "execution_count": 28,
   "id": "47c8aa39",
   "metadata": {},
   "outputs": [
    {
     "data": {
      "text/plain": [
       "0.9984779299847792"
      ]
     },
     "execution_count": 28,
     "metadata": {},
     "output_type": "execute_result"
    }
   ],
   "source": [
    "f1_score(data_y_test, data_y_pred_2, average='micro')"
   ]
  },
  {
   "cell_type": "code",
   "execution_count": 29,
   "id": "de95e00b",
   "metadata": {},
   "outputs": [
    {
     "data": {
      "text/plain": [
       "0.9987823618273689"
      ]
     },
     "execution_count": 29,
     "metadata": {},
     "output_type": "execute_result"
    }
   ],
   "source": [
    "f1_score(data_y_test, data_y_pred_2, average='macro')"
   ]
  },
  {
   "cell_type": "code",
   "execution_count": 30,
   "id": "d5a73d79",
   "metadata": {},
   "outputs": [
    {
     "data": {
      "text/plain": [
       "0.998478361107127"
      ]
     },
     "execution_count": 30,
     "metadata": {},
     "output_type": "execute_result"
    }
   ],
   "source": [
    "f1_score(data_y_test, data_y_pred_2, average='weighted')"
   ]
  },
  {
   "cell_type": "code",
   "execution_count": 31,
   "id": "681bb427",
   "metadata": {},
   "outputs": [
    {
     "data": {
      "text/plain": [
       "LinearSVC(dual=False, max_iter=10000, penalty='l1')"
      ]
     },
     "execution_count": 31,
     "metadata": {},
     "output_type": "execute_result"
    }
   ],
   "source": [
    "svr_3 = LinearSVC(C=1.0, penalty='l1', dual=False, max_iter=10000)\n",
    "svr_3.fit(data_X_train, data_y_train)"
   ]
  },
  {
   "cell_type": "code",
   "execution_count": 32,
   "id": "d73e27d7",
   "metadata": {},
   "outputs": [
    {
     "data": {
      "text/plain": [
       "0.9996191926884996"
      ]
     },
     "execution_count": 32,
     "metadata": {},
     "output_type": "execute_result"
    }
   ],
   "source": [
    "data_y_pred_3_0 = svr_3.predict(data_X_train)\n",
    "accuracy_score(data_y_train, data_y_pred_3_0)"
   ]
  },
  {
   "cell_type": "code",
   "execution_count": 33,
   "id": "d4d500b2",
   "metadata": {},
   "outputs": [
    {
     "data": {
      "text/plain": [
       "1.0"
      ]
     },
     "execution_count": 33,
     "metadata": {},
     "output_type": "execute_result"
    }
   ],
   "source": [
    "data_y_pred_3 = svr_3.predict(data_X_test)\n",
    "accuracy_score(data_y_test, data_y_pred_3)"
   ]
  },
  {
   "cell_type": "code",
   "execution_count": 34,
   "id": "65ee28de",
   "metadata": {},
   "outputs": [
    {
     "data": {
      "text/plain": [
       "1.0"
      ]
     },
     "execution_count": 34,
     "metadata": {},
     "output_type": "execute_result"
    }
   ],
   "source": [
    "f1_score(data_y_test, data_y_pred_3, average='micro')"
   ]
  },
  {
   "cell_type": "code",
   "execution_count": 35,
   "id": "4e41d83c",
   "metadata": {},
   "outputs": [
    {
     "data": {
      "text/plain": [
       "1.0"
      ]
     },
     "execution_count": 35,
     "metadata": {},
     "output_type": "execute_result"
    }
   ],
   "source": [
    "f1_score(data_y_test, data_y_pred_3, average='macro')"
   ]
  },
  {
   "cell_type": "code",
   "execution_count": 36,
   "id": "ea8d72fa",
   "metadata": {},
   "outputs": [
    {
     "data": {
      "text/plain": [
       "1.0"
      ]
     },
     "execution_count": 36,
     "metadata": {},
     "output_type": "execute_result"
    }
   ],
   "source": [
    "f1_score(data_y_test, data_y_pred_3, average='weighted')"
   ]
  },
  {
   "cell_type": "markdown",
   "id": "53f748ae",
   "metadata": {},
   "source": [
    "# Градиентный бустинг"
   ]
  },
  {
   "cell_type": "code",
   "execution_count": 37,
   "id": "887f4d2e",
   "metadata": {},
   "outputs": [
    {
     "data": {
      "text/plain": [
       "AdaBoostClassifier()"
      ]
     },
     "execution_count": 37,
     "metadata": {},
     "output_type": "execute_result"
    }
   ],
   "source": [
    "ab1 = AdaBoostClassifier()\n",
    "ab1.fit(data_X_train, data_y_train)"
   ]
  },
  {
   "cell_type": "code",
   "execution_count": 38,
   "id": "bdd7ae27",
   "metadata": {},
   "outputs": [],
   "source": [
    "data_y_pred_1 = ab1.predict(data_X_test)"
   ]
  },
  {
   "cell_type": "code",
   "execution_count": 39,
   "id": "b48ad916",
   "metadata": {},
   "outputs": [],
   "source": [
    "data_y_pred_1_0 = ab1.predict(data_X_train)"
   ]
  },
  {
   "cell_type": "code",
   "execution_count": 40,
   "id": "aa088ecb",
   "metadata": {},
   "outputs": [
    {
     "data": {
      "text/plain": [
       "1.0"
      ]
     },
     "execution_count": 40,
     "metadata": {},
     "output_type": "execute_result"
    }
   ],
   "source": [
    "accuracy_score(data_y_train, data_y_pred_1_0)"
   ]
  },
  {
   "cell_type": "code",
   "execution_count": 41,
   "id": "f495700a",
   "metadata": {},
   "outputs": [
    {
     "data": {
      "text/plain": [
       "1.0"
      ]
     },
     "execution_count": 41,
     "metadata": {},
     "output_type": "execute_result"
    }
   ],
   "source": [
    "accuracy_score(data_y_test, data_y_pred_1)"
   ]
  },
  {
   "cell_type": "code",
   "execution_count": 42,
   "id": "568feee8",
   "metadata": {},
   "outputs": [
    {
     "data": {
      "text/plain": [
       "1.0"
      ]
     },
     "execution_count": 42,
     "metadata": {},
     "output_type": "execute_result"
    }
   ],
   "source": [
    "f1_score(data_y_test, data_y_pred_1, average='micro')"
   ]
  },
  {
   "cell_type": "code",
   "execution_count": 43,
   "id": "dca0450f",
   "metadata": {},
   "outputs": [
    {
     "data": {
      "text/plain": [
       "1.0"
      ]
     },
     "execution_count": 43,
     "metadata": {},
     "output_type": "execute_result"
    }
   ],
   "source": [
    "f1_score(data_y_test, data_y_pred_1, average='macro')"
   ]
  },
  {
   "cell_type": "code",
   "execution_count": 44,
   "id": "160ae8ef",
   "metadata": {},
   "outputs": [
    {
     "data": {
      "text/plain": [
       "1.0"
      ]
     },
     "execution_count": 44,
     "metadata": {},
     "output_type": "execute_result"
    }
   ],
   "source": [
    "f1_score(data_y_test, data_y_pred_1, average='weighted')"
   ]
  },
  {
   "cell_type": "markdown",
   "id": "b27023c5",
   "metadata": {},
   "source": [
    "Градиентный бустинг показал лучше качество, чем метод опорных векторов (хотя и у этого метода показатели хорошие)"
   ]
  },
  {
   "cell_type": "code",
   "execution_count": null,
   "id": "f917f6e8",
   "metadata": {},
   "outputs": [],
   "source": []
  }
 ],
 "metadata": {
  "kernelspec": {
   "display_name": "Python 3 (ipykernel)",
   "language": "python",
   "name": "python3"
  },
  "language_info": {
   "codemirror_mode": {
    "name": "ipython",
    "version": 3
   },
   "file_extension": ".py",
   "mimetype": "text/x-python",
   "name": "python",
   "nbconvert_exporter": "python",
   "pygments_lexer": "ipython3",
   "version": "3.9.7"
  }
 },
 "nbformat": 4,
 "nbformat_minor": 5
}
