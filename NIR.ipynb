{
 "cells": [
  {
   "cell_type": "markdown",
   "id": "c3480e2f",
   "metadata": {},
   "source": [
    "# Прогнозирование выдачи кредита"
   ]
  },
  {
   "cell_type": "code",
   "execution_count": 1,
   "id": "cd8fb01f",
   "metadata": {},
   "outputs": [],
   "source": [
    "import pandas as pd\n",
    "import numpy as np"
   ]
  },
  {
   "cell_type": "markdown",
   "id": "1b3be275",
   "metadata": {},
   "source": [
    "# Загрузка данных и предобработка"
   ]
  },
  {
   "cell_type": "code",
   "execution_count": 2,
   "id": "b68dbe86",
   "metadata": {},
   "outputs": [],
   "source": [
    "data = pd.read_csv(\"crx.data\")"
   ]
  },
  {
   "cell_type": "code",
   "execution_count": 3,
   "id": "11b63aa5",
   "metadata": {},
   "outputs": [
    {
     "data": {
      "text/html": [
       "<div>\n",
       "<style scoped>\n",
       "    .dataframe tbody tr th:only-of-type {\n",
       "        vertical-align: middle;\n",
       "    }\n",
       "\n",
       "    .dataframe tbody tr th {\n",
       "        vertical-align: top;\n",
       "    }\n",
       "\n",
       "    .dataframe thead th {\n",
       "        text-align: right;\n",
       "    }\n",
       "</style>\n",
       "<table border=\"1\" class=\"dataframe\">\n",
       "  <thead>\n",
       "    <tr style=\"text-align: right;\">\n",
       "      <th></th>\n",
       "      <th>b</th>\n",
       "      <th>30.83</th>\n",
       "      <th>0</th>\n",
       "      <th>u</th>\n",
       "      <th>g</th>\n",
       "      <th>w</th>\n",
       "      <th>v</th>\n",
       "      <th>1.25</th>\n",
       "      <th>t</th>\n",
       "      <th>t.1</th>\n",
       "      <th>01</th>\n",
       "      <th>f</th>\n",
       "      <th>g.1</th>\n",
       "      <th>00202</th>\n",
       "      <th>0.1</th>\n",
       "      <th>+</th>\n",
       "    </tr>\n",
       "  </thead>\n",
       "  <tbody>\n",
       "    <tr>\n",
       "      <th>0</th>\n",
       "      <td>a</td>\n",
       "      <td>58.67</td>\n",
       "      <td>4.460</td>\n",
       "      <td>u</td>\n",
       "      <td>g</td>\n",
       "      <td>q</td>\n",
       "      <td>h</td>\n",
       "      <td>3.04</td>\n",
       "      <td>t</td>\n",
       "      <td>t</td>\n",
       "      <td>6</td>\n",
       "      <td>f</td>\n",
       "      <td>g</td>\n",
       "      <td>00043</td>\n",
       "      <td>560</td>\n",
       "      <td>+</td>\n",
       "    </tr>\n",
       "    <tr>\n",
       "      <th>1</th>\n",
       "      <td>a</td>\n",
       "      <td>24.50</td>\n",
       "      <td>0.500</td>\n",
       "      <td>u</td>\n",
       "      <td>g</td>\n",
       "      <td>q</td>\n",
       "      <td>h</td>\n",
       "      <td>1.50</td>\n",
       "      <td>t</td>\n",
       "      <td>f</td>\n",
       "      <td>0</td>\n",
       "      <td>f</td>\n",
       "      <td>g</td>\n",
       "      <td>00280</td>\n",
       "      <td>824</td>\n",
       "      <td>+</td>\n",
       "    </tr>\n",
       "    <tr>\n",
       "      <th>2</th>\n",
       "      <td>b</td>\n",
       "      <td>27.83</td>\n",
       "      <td>1.540</td>\n",
       "      <td>u</td>\n",
       "      <td>g</td>\n",
       "      <td>w</td>\n",
       "      <td>v</td>\n",
       "      <td>3.75</td>\n",
       "      <td>t</td>\n",
       "      <td>t</td>\n",
       "      <td>5</td>\n",
       "      <td>t</td>\n",
       "      <td>g</td>\n",
       "      <td>00100</td>\n",
       "      <td>3</td>\n",
       "      <td>+</td>\n",
       "    </tr>\n",
       "    <tr>\n",
       "      <th>3</th>\n",
       "      <td>b</td>\n",
       "      <td>20.17</td>\n",
       "      <td>5.625</td>\n",
       "      <td>u</td>\n",
       "      <td>g</td>\n",
       "      <td>w</td>\n",
       "      <td>v</td>\n",
       "      <td>1.71</td>\n",
       "      <td>t</td>\n",
       "      <td>f</td>\n",
       "      <td>0</td>\n",
       "      <td>f</td>\n",
       "      <td>s</td>\n",
       "      <td>00120</td>\n",
       "      <td>0</td>\n",
       "      <td>+</td>\n",
       "    </tr>\n",
       "    <tr>\n",
       "      <th>4</th>\n",
       "      <td>b</td>\n",
       "      <td>32.08</td>\n",
       "      <td>4.000</td>\n",
       "      <td>u</td>\n",
       "      <td>g</td>\n",
       "      <td>m</td>\n",
       "      <td>v</td>\n",
       "      <td>2.50</td>\n",
       "      <td>t</td>\n",
       "      <td>f</td>\n",
       "      <td>0</td>\n",
       "      <td>t</td>\n",
       "      <td>g</td>\n",
       "      <td>00360</td>\n",
       "      <td>0</td>\n",
       "      <td>+</td>\n",
       "    </tr>\n",
       "  </tbody>\n",
       "</table>\n",
       "</div>"
      ],
      "text/plain": [
       "   b  30.83      0  u  g  w  v  1.25  t t.1  01  f g.1  00202  0.1  +\n",
       "0  a  58.67  4.460  u  g  q  h  3.04  t   t   6  f   g  00043  560  +\n",
       "1  a  24.50  0.500  u  g  q  h  1.50  t   f   0  f   g  00280  824  +\n",
       "2  b  27.83  1.540  u  g  w  v  3.75  t   t   5  t   g  00100    3  +\n",
       "3  b  20.17  5.625  u  g  w  v  1.71  t   f   0  f   s  00120    0  +\n",
       "4  b  32.08  4.000  u  g  m  v  2.50  t   f   0  t   g  00360    0  +"
      ]
     },
     "execution_count": 3,
     "metadata": {},
     "output_type": "execute_result"
    }
   ],
   "source": [
    "data.head()"
   ]
  },
  {
   "cell_type": "code",
   "execution_count": 4,
   "id": "d998dec7",
   "metadata": {},
   "outputs": [
    {
     "data": {
      "text/plain": [
       "(689, 16)"
      ]
     },
     "execution_count": 4,
     "metadata": {},
     "output_type": "execute_result"
    }
   ],
   "source": [
    "data.shape"
   ]
  },
  {
   "cell_type": "code",
   "execution_count": 5,
   "id": "89b13cbf",
   "metadata": {},
   "outputs": [
    {
     "data": {
      "text/plain": [
       "array(['a', 'b', '?'], dtype=object)"
      ]
     },
     "execution_count": 5,
     "metadata": {},
     "output_type": "execute_result"
    }
   ],
   "source": [
    "data['b'].unique()"
   ]
  },
  {
   "cell_type": "code",
   "execution_count": 6,
   "id": "2e0b2258",
   "metadata": {},
   "outputs": [],
   "source": [
    "data.replace('?', np.nan, inplace=True)"
   ]
  },
  {
   "cell_type": "code",
   "execution_count": 7,
   "id": "d65b1cba",
   "metadata": {},
   "outputs": [
    {
     "data": {
      "text/plain": [
       "array(['a', 'b', nan], dtype=object)"
      ]
     },
     "execution_count": 7,
     "metadata": {},
     "output_type": "execute_result"
    }
   ],
   "source": [
    "data['b'].unique()"
   ]
  },
  {
   "cell_type": "code",
   "execution_count": 8,
   "id": "6cc615d1",
   "metadata": {},
   "outputs": [
    {
     "data": {
      "text/plain": [
       "b        12\n",
       "30.83    12\n",
       "0         0\n",
       "u         6\n",
       "g         6\n",
       "w         9\n",
       "v         9\n",
       "1.25      0\n",
       "t         0\n",
       "t.1       0\n",
       "01        0\n",
       "f         0\n",
       "g.1       0\n",
       "00202    13\n",
       "0.1       0\n",
       "+         0\n",
       "dtype: int64"
      ]
     },
     "execution_count": 8,
     "metadata": {},
     "output_type": "execute_result"
    }
   ],
   "source": [
    "data.isnull().sum()"
   ]
  },
  {
   "cell_type": "code",
   "execution_count": 9,
   "id": "67166e76",
   "metadata": {},
   "outputs": [
    {
     "name": "stdout",
     "output_type": "stream",
     "text": [
      "Всего строк: 689\n"
     ]
    }
   ],
   "source": [
    "total_count = data.shape[0]\n",
    "print('Всего строк: {}'.format(total_count))"
   ]
  },
  {
   "cell_type": "code",
   "execution_count": 10,
   "id": "7ffd37c8",
   "metadata": {},
   "outputs": [],
   "source": [
    "from sklearn.preprocessing import LabelEncoder\n",
    "le = LabelEncoder()\n",
    "data['+'] = le.fit_transform(data['+'])"
   ]
  },
  {
   "cell_type": "code",
   "execution_count": 11,
   "id": "ef83bc5e",
   "metadata": {},
   "outputs": [
    {
     "data": {
      "text/html": [
       "<div>\n",
       "<style scoped>\n",
       "    .dataframe tbody tr th:only-of-type {\n",
       "        vertical-align: middle;\n",
       "    }\n",
       "\n",
       "    .dataframe tbody tr th {\n",
       "        vertical-align: top;\n",
       "    }\n",
       "\n",
       "    .dataframe thead th {\n",
       "        text-align: right;\n",
       "    }\n",
       "</style>\n",
       "<table border=\"1\" class=\"dataframe\">\n",
       "  <thead>\n",
       "    <tr style=\"text-align: right;\">\n",
       "      <th></th>\n",
       "      <th>b</th>\n",
       "      <th>30.83</th>\n",
       "      <th>0</th>\n",
       "      <th>u</th>\n",
       "      <th>g</th>\n",
       "      <th>w</th>\n",
       "      <th>v</th>\n",
       "      <th>1.25</th>\n",
       "      <th>t</th>\n",
       "      <th>t.1</th>\n",
       "      <th>01</th>\n",
       "      <th>f</th>\n",
       "      <th>g.1</th>\n",
       "      <th>00202</th>\n",
       "      <th>0.1</th>\n",
       "      <th>+</th>\n",
       "    </tr>\n",
       "  </thead>\n",
       "  <tbody>\n",
       "    <tr>\n",
       "      <th>0</th>\n",
       "      <td>a</td>\n",
       "      <td>58.67</td>\n",
       "      <td>4.460</td>\n",
       "      <td>u</td>\n",
       "      <td>g</td>\n",
       "      <td>q</td>\n",
       "      <td>h</td>\n",
       "      <td>3.04</td>\n",
       "      <td>t</td>\n",
       "      <td>t</td>\n",
       "      <td>6</td>\n",
       "      <td>f</td>\n",
       "      <td>g</td>\n",
       "      <td>00043</td>\n",
       "      <td>560</td>\n",
       "      <td>0</td>\n",
       "    </tr>\n",
       "    <tr>\n",
       "      <th>1</th>\n",
       "      <td>a</td>\n",
       "      <td>24.50</td>\n",
       "      <td>0.500</td>\n",
       "      <td>u</td>\n",
       "      <td>g</td>\n",
       "      <td>q</td>\n",
       "      <td>h</td>\n",
       "      <td>1.50</td>\n",
       "      <td>t</td>\n",
       "      <td>f</td>\n",
       "      <td>0</td>\n",
       "      <td>f</td>\n",
       "      <td>g</td>\n",
       "      <td>00280</td>\n",
       "      <td>824</td>\n",
       "      <td>0</td>\n",
       "    </tr>\n",
       "    <tr>\n",
       "      <th>2</th>\n",
       "      <td>b</td>\n",
       "      <td>27.83</td>\n",
       "      <td>1.540</td>\n",
       "      <td>u</td>\n",
       "      <td>g</td>\n",
       "      <td>w</td>\n",
       "      <td>v</td>\n",
       "      <td>3.75</td>\n",
       "      <td>t</td>\n",
       "      <td>t</td>\n",
       "      <td>5</td>\n",
       "      <td>t</td>\n",
       "      <td>g</td>\n",
       "      <td>00100</td>\n",
       "      <td>3</td>\n",
       "      <td>0</td>\n",
       "    </tr>\n",
       "    <tr>\n",
       "      <th>3</th>\n",
       "      <td>b</td>\n",
       "      <td>20.17</td>\n",
       "      <td>5.625</td>\n",
       "      <td>u</td>\n",
       "      <td>g</td>\n",
       "      <td>w</td>\n",
       "      <td>v</td>\n",
       "      <td>1.71</td>\n",
       "      <td>t</td>\n",
       "      <td>f</td>\n",
       "      <td>0</td>\n",
       "      <td>f</td>\n",
       "      <td>s</td>\n",
       "      <td>00120</td>\n",
       "      <td>0</td>\n",
       "      <td>0</td>\n",
       "    </tr>\n",
       "    <tr>\n",
       "      <th>4</th>\n",
       "      <td>b</td>\n",
       "      <td>32.08</td>\n",
       "      <td>4.000</td>\n",
       "      <td>u</td>\n",
       "      <td>g</td>\n",
       "      <td>m</td>\n",
       "      <td>v</td>\n",
       "      <td>2.50</td>\n",
       "      <td>t</td>\n",
       "      <td>f</td>\n",
       "      <td>0</td>\n",
       "      <td>t</td>\n",
       "      <td>g</td>\n",
       "      <td>00360</td>\n",
       "      <td>0</td>\n",
       "      <td>0</td>\n",
       "    </tr>\n",
       "  </tbody>\n",
       "</table>\n",
       "</div>"
      ],
      "text/plain": [
       "   b  30.83      0  u  g  w  v  1.25  t t.1  01  f g.1  00202  0.1  +\n",
       "0  a  58.67  4.460  u  g  q  h  3.04  t   t   6  f   g  00043  560  0\n",
       "1  a  24.50  0.500  u  g  q  h  1.50  t   f   0  f   g  00280  824  0\n",
       "2  b  27.83  1.540  u  g  w  v  3.75  t   t   5  t   g  00100    3  0\n",
       "3  b  20.17  5.625  u  g  w  v  1.71  t   f   0  f   s  00120    0  0\n",
       "4  b  32.08  4.000  u  g  m  v  2.50  t   f   0  t   g  00360    0  0"
      ]
     },
     "execution_count": 11,
     "metadata": {},
     "output_type": "execute_result"
    }
   ],
   "source": [
    "data.head()"
   ]
  },
  {
   "cell_type": "code",
   "execution_count": 12,
   "id": "480897a0",
   "metadata": {},
   "outputs": [
    {
     "data": {
      "text/plain": [
       "array([0, 1])"
      ]
     },
     "execution_count": 12,
     "metadata": {},
     "output_type": "execute_result"
    }
   ],
   "source": [
    "target = data['+']\n",
    "np.unique(target)"
   ]
  },
  {
   "cell_type": "code",
   "execution_count": 13,
   "id": "c499d3e5",
   "metadata": {},
   "outputs": [
    {
     "data": {
      "text/html": [
       "<div>\n",
       "<style scoped>\n",
       "    .dataframe tbody tr th:only-of-type {\n",
       "        vertical-align: middle;\n",
       "    }\n",
       "\n",
       "    .dataframe tbody tr th {\n",
       "        vertical-align: top;\n",
       "    }\n",
       "\n",
       "    .dataframe thead th {\n",
       "        text-align: right;\n",
       "    }\n",
       "</style>\n",
       "<table border=\"1\" class=\"dataframe\">\n",
       "  <thead>\n",
       "    <tr style=\"text-align: right;\">\n",
       "      <th></th>\n",
       "      <th>b</th>\n",
       "      <th>30.83</th>\n",
       "      <th>0</th>\n",
       "      <th>u</th>\n",
       "      <th>g</th>\n",
       "      <th>w</th>\n",
       "      <th>v</th>\n",
       "      <th>1.25</th>\n",
       "      <th>t</th>\n",
       "      <th>t.1</th>\n",
       "      <th>01</th>\n",
       "      <th>f</th>\n",
       "      <th>g.1</th>\n",
       "      <th>00202</th>\n",
       "      <th>0.1</th>\n",
       "    </tr>\n",
       "  </thead>\n",
       "  <tbody>\n",
       "    <tr>\n",
       "      <th>0</th>\n",
       "      <td>a</td>\n",
       "      <td>58.67</td>\n",
       "      <td>4.460</td>\n",
       "      <td>u</td>\n",
       "      <td>g</td>\n",
       "      <td>q</td>\n",
       "      <td>h</td>\n",
       "      <td>3.04</td>\n",
       "      <td>t</td>\n",
       "      <td>t</td>\n",
       "      <td>6</td>\n",
       "      <td>f</td>\n",
       "      <td>g</td>\n",
       "      <td>00043</td>\n",
       "      <td>560</td>\n",
       "    </tr>\n",
       "    <tr>\n",
       "      <th>1</th>\n",
       "      <td>a</td>\n",
       "      <td>24.50</td>\n",
       "      <td>0.500</td>\n",
       "      <td>u</td>\n",
       "      <td>g</td>\n",
       "      <td>q</td>\n",
       "      <td>h</td>\n",
       "      <td>1.50</td>\n",
       "      <td>t</td>\n",
       "      <td>f</td>\n",
       "      <td>0</td>\n",
       "      <td>f</td>\n",
       "      <td>g</td>\n",
       "      <td>00280</td>\n",
       "      <td>824</td>\n",
       "    </tr>\n",
       "    <tr>\n",
       "      <th>2</th>\n",
       "      <td>b</td>\n",
       "      <td>27.83</td>\n",
       "      <td>1.540</td>\n",
       "      <td>u</td>\n",
       "      <td>g</td>\n",
       "      <td>w</td>\n",
       "      <td>v</td>\n",
       "      <td>3.75</td>\n",
       "      <td>t</td>\n",
       "      <td>t</td>\n",
       "      <td>5</td>\n",
       "      <td>t</td>\n",
       "      <td>g</td>\n",
       "      <td>00100</td>\n",
       "      <td>3</td>\n",
       "    </tr>\n",
       "    <tr>\n",
       "      <th>3</th>\n",
       "      <td>b</td>\n",
       "      <td>20.17</td>\n",
       "      <td>5.625</td>\n",
       "      <td>u</td>\n",
       "      <td>g</td>\n",
       "      <td>w</td>\n",
       "      <td>v</td>\n",
       "      <td>1.71</td>\n",
       "      <td>t</td>\n",
       "      <td>f</td>\n",
       "      <td>0</td>\n",
       "      <td>f</td>\n",
       "      <td>s</td>\n",
       "      <td>00120</td>\n",
       "      <td>0</td>\n",
       "    </tr>\n",
       "    <tr>\n",
       "      <th>4</th>\n",
       "      <td>b</td>\n",
       "      <td>32.08</td>\n",
       "      <td>4.000</td>\n",
       "      <td>u</td>\n",
       "      <td>g</td>\n",
       "      <td>m</td>\n",
       "      <td>v</td>\n",
       "      <td>2.50</td>\n",
       "      <td>t</td>\n",
       "      <td>f</td>\n",
       "      <td>0</td>\n",
       "      <td>t</td>\n",
       "      <td>g</td>\n",
       "      <td>00360</td>\n",
       "      <td>0</td>\n",
       "    </tr>\n",
       "  </tbody>\n",
       "</table>\n",
       "</div>"
      ],
      "text/plain": [
       "   b  30.83      0  u  g  w  v  1.25  t t.1  01  f g.1  00202  0.1\n",
       "0  a  58.67  4.460  u  g  q  h  3.04  t   t   6  f   g  00043  560\n",
       "1  a  24.50  0.500  u  g  q  h  1.50  t   f   0  f   g  00280  824\n",
       "2  b  27.83  1.540  u  g  w  v  3.75  t   t   5  t   g  00100    3\n",
       "3  b  20.17  5.625  u  g  w  v  1.71  t   f   0  f   s  00120    0\n",
       "4  b  32.08  4.000  u  g  m  v  2.50  t   f   0  t   g  00360    0"
      ]
     },
     "execution_count": 13,
     "metadata": {},
     "output_type": "execute_result"
    }
   ],
   "source": [
    "data = data.drop(columns='+')\n",
    "data.head()"
   ]
  },
  {
   "cell_type": "markdown",
   "id": "64b873b0",
   "metadata": {},
   "source": [
    "# Обрабатываем пропуски"
   ]
  },
  {
   "cell_type": "code",
   "execution_count": 14,
   "id": "3ef9e197",
   "metadata": {},
   "outputs": [],
   "source": [
    "# Выберем числовые колонки с пропущенными значениями\n",
    "# Цикл по колонкам датасета\n",
    "num_cols = []\n",
    "for col in data.columns:\n",
    "    # Количество пустых значений \n",
    "    temp_null_count = data[data[col].isnull()].shape[0]\n",
    "    dt = str(data[col].dtype)\n",
    "    if temp_null_count>0 and (dt=='float64' or dt=='int64'):\n",
    "        num_cols.append(col)\n",
    "        temp_perc = round((temp_null_count / total_count) * 100.0, 2)\n",
    "        print('Колонка {}. Тип данных {}. Количество пустых значений {}, {}%.'.format(col, dt, temp_null_count, temp_perc))"
   ]
  },
  {
   "cell_type": "code",
   "execution_count": 15,
   "id": "a44afd90",
   "metadata": {},
   "outputs": [
    {
     "name": "stdout",
     "output_type": "stream",
     "text": [
      "Колонка b. Тип данных object. Количество пустых значений 12, 1.74%.\n",
      "Колонка 30.83. Тип данных object. Количество пустых значений 12, 1.74%.\n",
      "Колонка u. Тип данных object. Количество пустых значений 6, 0.87%.\n",
      "Колонка g. Тип данных object. Количество пустых значений 6, 0.87%.\n",
      "Колонка w. Тип данных object. Количество пустых значений 9, 1.31%.\n",
      "Колонка v. Тип данных object. Количество пустых значений 9, 1.31%.\n",
      "Колонка 00202. Тип данных object. Количество пустых значений 13, 1.89%.\n"
     ]
    }
   ],
   "source": [
    "# Выберем категориальные колонки с пропущенными значениями\n",
    "# Цикл по колонкам датасета\n",
    "cat_cols = []\n",
    "for col in data.columns:\n",
    "    # Количество пустых значений \n",
    "    temp_null_count = data[data[col].isnull()].shape[0]\n",
    "    dt = str(data[col].dtype)\n",
    "    if temp_null_count>0 and (dt=='object'):\n",
    "        cat_cols.append(col)\n",
    "        temp_perc = round((temp_null_count / total_count) * 100.0, 2)\n",
    "        print('Колонка {}. Тип данных {}. Количество пустых значений {}, {}%.'.format(col, dt, temp_null_count, temp_perc))"
   ]
  },
  {
   "cell_type": "code",
   "execution_count": 16,
   "id": "c532db32",
   "metadata": {},
   "outputs": [],
   "source": [
    "from sklearn.impute import SimpleImputer\n",
    "from sklearn.impute import MissingIndicator\n",
    "imp1 = SimpleImputer(missing_values=np.nan, strategy='most_frequent')\n",
    "data['b'] = imp1.fit_transform(data[['b']])"
   ]
  },
  {
   "cell_type": "code",
   "execution_count": 17,
   "id": "1aa932a0",
   "metadata": {},
   "outputs": [
    {
     "data": {
      "text/plain": [
       "b        0\n",
       "30.83    0\n",
       "0        0\n",
       "u        0\n",
       "g        0\n",
       "w        0\n",
       "v        0\n",
       "1.25     0\n",
       "t        0\n",
       "t.1      0\n",
       "01       0\n",
       "f        0\n",
       "g.1      0\n",
       "00202    0\n",
       "0.1      0\n",
       "dtype: int64"
      ]
     },
     "execution_count": 17,
     "metadata": {},
     "output_type": "execute_result"
    }
   ],
   "source": [
    "data['30.83'] = imp1.fit_transform(data[['30.83']])\n",
    "data['u'] = imp1.fit_transform(data[['u']])\n",
    "data['g'] = imp1.fit_transform(data[['g']])\n",
    "data['w'] = imp1.fit_transform(data[['w']])\n",
    "data['v'] = imp1.fit_transform(data[['v']])\n",
    "data['00202'] = imp1.fit_transform(data[['00202']])\n",
    "data.isnull().sum()"
   ]
  },
  {
   "cell_type": "markdown",
   "id": "f87b650f",
   "metadata": {},
   "source": [
    "# Кодируем категориальные признаки"
   ]
  },
  {
   "cell_type": "code",
   "execution_count": 18,
   "id": "d8d0ae26",
   "metadata": {},
   "outputs": [
    {
     "data": {
      "text/plain": [
       "b         object\n",
       "30.83     object\n",
       "0        float64\n",
       "u         object\n",
       "g         object\n",
       "w         object\n",
       "v         object\n",
       "1.25     float64\n",
       "t         object\n",
       "t.1       object\n",
       "01         int64\n",
       "f         object\n",
       "g.1       object\n",
       "00202     object\n",
       "0.1        int64\n",
       "dtype: object"
      ]
     },
     "execution_count": 18,
     "metadata": {},
     "output_type": "execute_result"
    }
   ],
   "source": [
    "data.dtypes"
   ]
  },
  {
   "cell_type": "code",
   "execution_count": 19,
   "id": "9a420831",
   "metadata": {},
   "outputs": [
    {
     "data": {
      "text/html": [
       "<div>\n",
       "<style scoped>\n",
       "    .dataframe tbody tr th:only-of-type {\n",
       "        vertical-align: middle;\n",
       "    }\n",
       "\n",
       "    .dataframe tbody tr th {\n",
       "        vertical-align: top;\n",
       "    }\n",
       "\n",
       "    .dataframe thead th {\n",
       "        text-align: right;\n",
       "    }\n",
       "</style>\n",
       "<table border=\"1\" class=\"dataframe\">\n",
       "  <thead>\n",
       "    <tr style=\"text-align: right;\">\n",
       "      <th></th>\n",
       "      <th>b</th>\n",
       "      <th>30.83</th>\n",
       "      <th>0</th>\n",
       "      <th>u</th>\n",
       "      <th>g</th>\n",
       "      <th>w</th>\n",
       "      <th>v</th>\n",
       "      <th>1.25</th>\n",
       "      <th>t</th>\n",
       "      <th>t.1</th>\n",
       "      <th>01</th>\n",
       "      <th>f</th>\n",
       "      <th>g.1</th>\n",
       "      <th>00202</th>\n",
       "      <th>0.1</th>\n",
       "    </tr>\n",
       "  </thead>\n",
       "  <tbody>\n",
       "    <tr>\n",
       "      <th>0</th>\n",
       "      <td>0</td>\n",
       "      <td>327</td>\n",
       "      <td>4.460</td>\n",
       "      <td>1</td>\n",
       "      <td>0</td>\n",
       "      <td>10</td>\n",
       "      <td>3</td>\n",
       "      <td>3.04</td>\n",
       "      <td>1</td>\n",
       "      <td>1</td>\n",
       "      <td>6</td>\n",
       "      <td>0</td>\n",
       "      <td>0</td>\n",
       "      <td>11</td>\n",
       "      <td>560</td>\n",
       "    </tr>\n",
       "    <tr>\n",
       "      <th>1</th>\n",
       "      <td>0</td>\n",
       "      <td>89</td>\n",
       "      <td>0.500</td>\n",
       "      <td>1</td>\n",
       "      <td>0</td>\n",
       "      <td>10</td>\n",
       "      <td>3</td>\n",
       "      <td>1.50</td>\n",
       "      <td>1</td>\n",
       "      <td>0</td>\n",
       "      <td>0</td>\n",
       "      <td>0</td>\n",
       "      <td>0</td>\n",
       "      <td>95</td>\n",
       "      <td>824</td>\n",
       "    </tr>\n",
       "    <tr>\n",
       "      <th>2</th>\n",
       "      <td>1</td>\n",
       "      <td>125</td>\n",
       "      <td>1.540</td>\n",
       "      <td>1</td>\n",
       "      <td>0</td>\n",
       "      <td>12</td>\n",
       "      <td>7</td>\n",
       "      <td>3.75</td>\n",
       "      <td>1</td>\n",
       "      <td>1</td>\n",
       "      <td>5</td>\n",
       "      <td>1</td>\n",
       "      <td>0</td>\n",
       "      <td>31</td>\n",
       "      <td>3</td>\n",
       "    </tr>\n",
       "    <tr>\n",
       "      <th>3</th>\n",
       "      <td>1</td>\n",
       "      <td>43</td>\n",
       "      <td>5.625</td>\n",
       "      <td>1</td>\n",
       "      <td>0</td>\n",
       "      <td>12</td>\n",
       "      <td>7</td>\n",
       "      <td>1.71</td>\n",
       "      <td>1</td>\n",
       "      <td>0</td>\n",
       "      <td>0</td>\n",
       "      <td>0</td>\n",
       "      <td>2</td>\n",
       "      <td>37</td>\n",
       "      <td>0</td>\n",
       "    </tr>\n",
       "    <tr>\n",
       "      <th>4</th>\n",
       "      <td>1</td>\n",
       "      <td>167</td>\n",
       "      <td>4.000</td>\n",
       "      <td>1</td>\n",
       "      <td>0</td>\n",
       "      <td>9</td>\n",
       "      <td>7</td>\n",
       "      <td>2.50</td>\n",
       "      <td>1</td>\n",
       "      <td>0</td>\n",
       "      <td>0</td>\n",
       "      <td>1</td>\n",
       "      <td>0</td>\n",
       "      <td>114</td>\n",
       "      <td>0</td>\n",
       "    </tr>\n",
       "  </tbody>\n",
       "</table>\n",
       "</div>"
      ],
      "text/plain": [
       "   b  30.83      0  u  g   w  v  1.25  t  t.1  01  f  g.1  00202  0.1\n",
       "0  0    327  4.460  1  0  10  3  3.04  1    1   6  0    0     11  560\n",
       "1  0     89  0.500  1  0  10  3  1.50  1    0   0  0    0     95  824\n",
       "2  1    125  1.540  1  0  12  7  3.75  1    1   5  1    0     31    3\n",
       "3  1     43  5.625  1  0  12  7  1.71  1    0   0  0    2     37    0\n",
       "4  1    167  4.000  1  0   9  7  2.50  1    0   0  1    0    114    0"
      ]
     },
     "execution_count": 19,
     "metadata": {},
     "output_type": "execute_result"
    }
   ],
   "source": [
    "data['b'] = le.fit_transform(data['b'])\n",
    "data['30.83'] = le.fit_transform(data['30.83'])\n",
    "data['u'] = le.fit_transform(data['u'])\n",
    "data['g'] = le.fit_transform(data['g'])\n",
    "data['w'] = le.fit_transform(data['w'])\n",
    "data['v'] = le.fit_transform(data['v'])\n",
    "data['t'] = le.fit_transform(data['t'])\n",
    "data['t.1'] = le.fit_transform(data['t.1'])\n",
    "data['g.1'] = le.fit_transform(data['g.1'])\n",
    "data['f'] = le.fit_transform(data['f'])\n",
    "data['00202'] = le.fit_transform(data['00202'])\n",
    "data.head()"
   ]
  },
  {
   "cell_type": "markdown",
   "id": "7411dd63",
   "metadata": {},
   "source": [
    "# Масштабируем числовые данные"
   ]
  },
  {
   "cell_type": "code",
   "execution_count": 20,
   "id": "125311f8",
   "metadata": {},
   "outputs": [
    {
     "data": {
      "text/html": [
       "<div>\n",
       "<style scoped>\n",
       "    .dataframe tbody tr th:only-of-type {\n",
       "        vertical-align: middle;\n",
       "    }\n",
       "\n",
       "    .dataframe tbody tr th {\n",
       "        vertical-align: top;\n",
       "    }\n",
       "\n",
       "    .dataframe thead th {\n",
       "        text-align: right;\n",
       "    }\n",
       "</style>\n",
       "<table border=\"1\" class=\"dataframe\">\n",
       "  <thead>\n",
       "    <tr style=\"text-align: right;\">\n",
       "      <th></th>\n",
       "      <th>b</th>\n",
       "      <th>30.83</th>\n",
       "      <th>0</th>\n",
       "      <th>u</th>\n",
       "      <th>g</th>\n",
       "      <th>w</th>\n",
       "      <th>v</th>\n",
       "      <th>1.25</th>\n",
       "      <th>t</th>\n",
       "      <th>t.1</th>\n",
       "      <th>01</th>\n",
       "      <th>f</th>\n",
       "      <th>g.1</th>\n",
       "      <th>00202</th>\n",
       "      <th>0.1</th>\n",
       "    </tr>\n",
       "  </thead>\n",
       "  <tbody>\n",
       "    <tr>\n",
       "      <th>0</th>\n",
       "      <td>0</td>\n",
       "      <td>327</td>\n",
       "      <td>0.159286</td>\n",
       "      <td>1</td>\n",
       "      <td>0</td>\n",
       "      <td>10</td>\n",
       "      <td>3</td>\n",
       "      <td>0.106667</td>\n",
       "      <td>1</td>\n",
       "      <td>1</td>\n",
       "      <td>0.089552</td>\n",
       "      <td>0</td>\n",
       "      <td>0</td>\n",
       "      <td>11</td>\n",
       "      <td>0.00560</td>\n",
       "    </tr>\n",
       "    <tr>\n",
       "      <th>1</th>\n",
       "      <td>0</td>\n",
       "      <td>89</td>\n",
       "      <td>0.017857</td>\n",
       "      <td>1</td>\n",
       "      <td>0</td>\n",
       "      <td>10</td>\n",
       "      <td>3</td>\n",
       "      <td>0.052632</td>\n",
       "      <td>1</td>\n",
       "      <td>0</td>\n",
       "      <td>0.000000</td>\n",
       "      <td>0</td>\n",
       "      <td>0</td>\n",
       "      <td>95</td>\n",
       "      <td>0.00824</td>\n",
       "    </tr>\n",
       "    <tr>\n",
       "      <th>2</th>\n",
       "      <td>1</td>\n",
       "      <td>125</td>\n",
       "      <td>0.055000</td>\n",
       "      <td>1</td>\n",
       "      <td>0</td>\n",
       "      <td>12</td>\n",
       "      <td>7</td>\n",
       "      <td>0.131579</td>\n",
       "      <td>1</td>\n",
       "      <td>1</td>\n",
       "      <td>0.074627</td>\n",
       "      <td>1</td>\n",
       "      <td>0</td>\n",
       "      <td>31</td>\n",
       "      <td>0.00003</td>\n",
       "    </tr>\n",
       "    <tr>\n",
       "      <th>3</th>\n",
       "      <td>1</td>\n",
       "      <td>43</td>\n",
       "      <td>0.200893</td>\n",
       "      <td>1</td>\n",
       "      <td>0</td>\n",
       "      <td>12</td>\n",
       "      <td>7</td>\n",
       "      <td>0.060000</td>\n",
       "      <td>1</td>\n",
       "      <td>0</td>\n",
       "      <td>0.000000</td>\n",
       "      <td>0</td>\n",
       "      <td>2</td>\n",
       "      <td>37</td>\n",
       "      <td>0.00000</td>\n",
       "    </tr>\n",
       "    <tr>\n",
       "      <th>4</th>\n",
       "      <td>1</td>\n",
       "      <td>167</td>\n",
       "      <td>0.142857</td>\n",
       "      <td>1</td>\n",
       "      <td>0</td>\n",
       "      <td>9</td>\n",
       "      <td>7</td>\n",
       "      <td>0.087719</td>\n",
       "      <td>1</td>\n",
       "      <td>0</td>\n",
       "      <td>0.000000</td>\n",
       "      <td>1</td>\n",
       "      <td>0</td>\n",
       "      <td>114</td>\n",
       "      <td>0.00000</td>\n",
       "    </tr>\n",
       "  </tbody>\n",
       "</table>\n",
       "</div>"
      ],
      "text/plain": [
       "   b  30.83         0  u  g   w  v      1.25  t  t.1        01  f  g.1  00202  \\\n",
       "0  0    327  0.159286  1  0  10  3  0.106667  1    1  0.089552  0    0     11   \n",
       "1  0     89  0.017857  1  0  10  3  0.052632  1    0  0.000000  0    0     95   \n",
       "2  1    125  0.055000  1  0  12  7  0.131579  1    1  0.074627  1    0     31   \n",
       "3  1     43  0.200893  1  0  12  7  0.060000  1    0  0.000000  0    2     37   \n",
       "4  1    167  0.142857  1  0   9  7  0.087719  1    0  0.000000  1    0    114   \n",
       "\n",
       "       0.1  \n",
       "0  0.00560  \n",
       "1  0.00824  \n",
       "2  0.00003  \n",
       "3  0.00000  \n",
       "4  0.00000  "
      ]
     },
     "execution_count": 20,
     "metadata": {},
     "output_type": "execute_result"
    }
   ],
   "source": [
    "from sklearn.preprocessing import MinMaxScaler\n",
    "sc1 = MinMaxScaler()\n",
    "data['0'] = sc1.fit_transform(data[['0']])\n",
    "data['1.25'] = sc1.fit_transform(data[['1.25']])\n",
    "data['01'] = sc1.fit_transform(data[['01']])\n",
    "data['0.1'] = sc1.fit_transform(data[['0.1']])\n",
    "data.head()"
   ]
  },
  {
   "cell_type": "code",
   "execution_count": 21,
   "id": "290eda78",
   "metadata": {},
   "outputs": [],
   "source": [
    "from sklearn.linear_model import LogisticRegression\n",
    "from sklearn.tree import DecisionTreeClassifier\n",
    "from sklearn.ensemble import RandomForestClassifier\n",
    "from sklearn.ensemble import BaggingClassifier\n",
    "from sklearn.ensemble import AdaBoostClassifier\n",
    "from sklearn.ensemble import GradientBoostingClassifier\n",
    "from sklearn.svm import SVC, NuSVC, LinearSVC, OneClassSVM, SVR, NuSVR, LinearSVR\n",
    "from sklearn import svm\n",
    "from scipy.stats import uniform as sp_randFloat\n",
    "from scipy.stats import randint as sp_randInt\n",
    "from sklearn.model_selection import RandomizedSearchCV\n",
    "from sklearn.pipeline import make_pipeline\n",
    "from sklearn.metrics import accuracy_score, balanced_accuracy_score\n",
    "from sklearn.metrics import precision_score, recall_score, f1_score, classification_report\n",
    "from sklearn.metrics import confusion_matrix\n",
    "res = {}\n",
    "res_1 = {}"
   ]
  },
  {
   "cell_type": "markdown",
   "id": "f7b8c5f0",
   "metadata": {},
   "source": [
    "# Делим выборку на обучающую и тестовую"
   ]
  },
  {
   "cell_type": "code",
   "execution_count": 22,
   "id": "b4993236",
   "metadata": {},
   "outputs": [],
   "source": [
    "from sklearn.model_selection import train_test_split\n",
    "data_X_train, data_X_test, data_y_train, data_y_test = train_test_split(\n",
    "    data, target, test_size=0.2, random_state=1)"
   ]
  },
  {
   "cell_type": "code",
   "execution_count": 23,
   "id": "a1b63e2a",
   "metadata": {},
   "outputs": [
    {
     "data": {
      "text/plain": [
       "((551, 15), (551,))"
      ]
     },
     "execution_count": 23,
     "metadata": {},
     "output_type": "execute_result"
    }
   ],
   "source": [
    "data_X_train.shape, data_y_train.shape"
   ]
  },
  {
   "cell_type": "code",
   "execution_count": 24,
   "id": "f8ea7293",
   "metadata": {},
   "outputs": [
    {
     "data": {
      "text/plain": [
       "((138, 15), (138,))"
      ]
     },
     "execution_count": 24,
     "metadata": {},
     "output_type": "execute_result"
    }
   ],
   "source": [
    "data_X_test.shape, data_y_test.shape"
   ]
  },
  {
   "cell_type": "code",
   "execution_count": 25,
   "id": "08037f51",
   "metadata": {},
   "outputs": [
    {
     "data": {
      "text/plain": [
       "array([0, 1])"
      ]
     },
     "execution_count": 25,
     "metadata": {},
     "output_type": "execute_result"
    }
   ],
   "source": [
    "np.unique(target)"
   ]
  },
  {
   "cell_type": "markdown",
   "id": "a252b616",
   "metadata": {},
   "source": [
    "# Обучение модели"
   ]
  },
  {
   "cell_type": "markdown",
   "id": "c132b8dd",
   "metadata": {},
   "source": [
    "Обучаем модель с помощью следующих методов:\n",
    "\n",
    "1. Логистическая регрессия\n",
    "2. Дерево решений\n",
    "3. Случайный лес\n",
    "4. Метод опорных векторов\n",
    "5. Градиентного бустинга"
   ]
  },
  {
   "cell_type": "markdown",
   "id": "9325da47",
   "metadata": {},
   "source": [
    "# Логистическая регрессия"
   ]
  },
  {
   "cell_type": "code",
   "execution_count": 26,
   "id": "7796b633",
   "metadata": {},
   "outputs": [
    {
     "name": "stdout",
     "output_type": "stream",
     "text": [
      "Лучшие параметры: {'solver': 'liblinear', 'class_weight': None, 'C': 11.288378916846883}\n",
      "F-мера на перекрестной проверке: 0.868476430976431\n",
      "F-мера логистической регрессии на тестовом наборе: 0.8671328671328671\n"
     ]
    }
   ],
   "source": [
    "model = LogisticRegression()\n",
    "parameters = {\"C\": np.logspace(-4, 2, 20),\n",
    "                  \"solver\"    : ['newton-cg', 'lbfgs', 'liblinear'],\n",
    "                  \"class_weight\"    : ['balanced', None]\n",
    "                 }\n",
    "randm_1 = RandomizedSearchCV(estimator=model, param_distributions = parameters, scoring='f1',\n",
    "                               cv = 2, n_iter = 10, n_jobs=-1)\n",
    "randm_1.fit(data_X_train, data_y_train)\n",
    "print('Лучшие параметры:', randm_1.best_params_)\n",
    "print('F-мера на перекрестной проверке:', randm_1.best_score_)\n",
    "print('F-мера логистической регрессии на тестовом наборе:', randm_1.score(data_X_test, data_y_test))\n",
    "res['логистической регрессии'] = randm_1.score(data_X_test, data_y_test)"
   ]
  },
  {
   "cell_type": "code",
   "execution_count": 27,
   "id": "744eb433",
   "metadata": {},
   "outputs": [
    {
     "name": "stdout",
     "output_type": "stream",
     "text": [
      "Лучшие параметры: {'solver': 'newton-cg', 'class_weight': 'balanced', 'C': 2.6366508987303554}\n",
      "Accuracy на перекрестной проверке: 0.8566271409749671\n",
      "Accuracy логистической регрессии на тестовом наборе: 0.8623188405797102\n"
     ]
    }
   ],
   "source": [
    "model = LogisticRegression()\n",
    "parameters = {\"C\": np.logspace(-4, 2, 20),\n",
    "                  \"solver\"    : ['newton-cg', 'lbfgs', 'liblinear'],\n",
    "                  \"class_weight\"    : ['balanced', None]\n",
    "                 }\n",
    "randm_1_1 = RandomizedSearchCV(estimator=model, param_distributions = parameters, scoring='accuracy',\n",
    "                               cv = 2, n_iter = 10, n_jobs=-1)\n",
    "randm_1_1.fit(data_X_train, data_y_train)\n",
    "print('Лучшие параметры:', randm_1_1.best_params_)\n",
    "print('Accuracy на перекрестной проверке:', randm_1_1.best_score_)\n",
    "print('Accuracy логистической регрессии на тестовом наборе:', randm_1_1.score(data_X_test, data_y_test))\n",
    "res_1['логистической регрессии'] = randm_1_1.score(data_X_test, data_y_test)"
   ]
  },
  {
   "cell_type": "markdown",
   "id": "dc4fbb53",
   "metadata": {},
   "source": [
    "# Дерево решений"
   ]
  },
  {
   "cell_type": "code",
   "execution_count": 28,
   "id": "9a6fcaca",
   "metadata": {},
   "outputs": [
    {
     "name": "stdout",
     "output_type": "stream",
     "text": [
      "Лучшие параметры: {'min_samples_split': 22, 'max_features': None, 'max_depth': 28, 'criterion': 'entropy', 'class_weight': 'balanced'}\n",
      "F-мера на перекрестной проверке: 0.8559441483504383\n",
      "F-мера Дерево решений на тестовом наборе: 0.8258064516129032\n"
     ]
    }
   ],
   "source": [
    "model = DecisionTreeClassifier()\n",
    "parameters = {\"min_samples_split\": range(2, 200, 5),\n",
    "                  \"criterion\"    : ['gini', 'entropy'],\n",
    "                  \"class_weight\" : ['balanced', None],\n",
    "                  \"max_depth\"    : range(1, 35),\n",
    "              \"max_features\" : ['auto', None, 'log2']\n",
    "                 }\n",
    "randm_2 = RandomizedSearchCV(estimator=model, param_distributions = parameters, scoring='f1',\n",
    "                               cv = 2, n_iter = 10, n_jobs=-1)\n",
    "randm_2.fit(data_X_train, data_y_train)\n",
    "print('Лучшие параметры:', randm_2.best_params_)\n",
    "print('F-мера на перекрестной проверке:', randm_2.best_score_)\n",
    "print('F-мера Дерево решений на тестовом наборе:', randm_2.score(data_X_test, data_y_test))\n",
    "res['Дерево решений'] = randm_2.score(data_X_test, data_y_test)"
   ]
  },
  {
   "cell_type": "code",
   "execution_count": 29,
   "id": "1b7bef13",
   "metadata": {},
   "outputs": [
    {
     "name": "stdout",
     "output_type": "stream",
     "text": [
      "Лучшие параметры: {'min_samples_split': 117, 'max_features': 'auto', 'max_depth': 15, 'criterion': 'entropy', 'class_weight': 'balanced'}\n",
      "Accuracy на перекрестной проверке: 0.847562582345191\n",
      "Accuracy Дерево решений на тестовом наборе: 0.8260869565217391\n"
     ]
    }
   ],
   "source": [
    "model = DecisionTreeClassifier()\n",
    "parameters = {\"min_samples_split\": range(2, 200, 5),\n",
    "                  \"criterion\"    : ['gini', 'entropy'],\n",
    "                  \"class_weight\" : ['balanced', None],\n",
    "                  \"max_depth\"    : range(1, 35),\n",
    "              \"max_features\" : ['auto', None, 'log2']\n",
    "                 }\n",
    "randm_2_1 = RandomizedSearchCV(estimator=model, param_distributions = parameters, scoring='accuracy',\n",
    "                               cv = 2, n_iter = 10, n_jobs=-1)\n",
    "randm_2_1.fit(data_X_train, data_y_train)\n",
    "print('Лучшие параметры:', randm_2_1.best_params_)\n",
    "print('Accuracy на перекрестной проверке:', randm_2_1.best_score_)\n",
    "print('Accuracy Дерево решений на тестовом наборе:', randm_2_1.score(data_X_test, data_y_test))\n",
    "res_1['Дерево решений'] = randm_2_1.score(data_X_test, data_y_test)"
   ]
  },
  {
   "cell_type": "markdown",
   "id": "3b253355",
   "metadata": {},
   "source": [
    "# Метод опорных векторов"
   ]
  },
  {
   "cell_type": "code",
   "execution_count": 37,
   "id": "42401eac",
   "metadata": {},
   "outputs": [
    {
     "name": "stdout",
     "output_type": "stream",
     "text": [
      "Лучшие параметры: {'kernel': 'linear', 'gamma': 'scale', 'class_weight': 'balanced', 'C': 0.03359818286283781}\n",
      "Accuracy на перекрестной проверке: 0.8580807461038165\n",
      "Accuracy метода опорных векторов на тестовом наборе: 0.8652482269503547\n"
     ]
    }
   ],
   "source": [
    "model = SVC()\n",
    "parameters = {\"C\": np.logspace(-4, 2, 20),\n",
    "                  \"gamma\"    : ['scale', 'auto'],\n",
    "                  \"class_weight\" : ['balanced', None],\n",
    "                  \"kernel\"    : ['linear', 'rbf', 'poly', 'sigmoid']\n",
    "                 }\n",
    "randm_3 = RandomizedSearchCV(estimator=model, param_distributions = parameters, scoring='f1',\n",
    "                               cv = 2, n_iter = 10, n_jobs=-1)\n",
    "randm_3.fit(data_X_train, data_y_train)\n",
    "print('Лучшие параметры:', randm_3.best_params_)\n",
    "print('Accuracy на перекрестной проверке:', randm_3.best_score_)\n",
    "print('Accuracy метода опорных векторов на тестовом наборе:', randm_3.score(data_X_test, data_y_test))\n",
    "res['Метод опорных векторов'] = randm_3.score(data_X_test, data_y_test)"
   ]
  },
  {
   "cell_type": "code",
   "execution_count": 31,
   "id": "81856411",
   "metadata": {},
   "outputs": [
    {
     "name": "stdout",
     "output_type": "stream",
     "text": [
      "Лучшие параметры: {'kernel': 'linear', 'gamma': 'auto', 'class_weight': 'balanced', 'C': 48.32930238571752}\n",
      "Accuracy на перекрестной проверке: 0.8566337285902503\n",
      "Accuracy метода опорных векторов на тестовом наборе: 0.855072463768116\n"
     ]
    }
   ],
   "source": [
    "model = SVC()\n",
    "parameters = {\"C\": np.logspace(-4, 2, 20),\n",
    "                  \"gamma\"    : ['scale', 'auto'],\n",
    "                  \"class_weight\" : ['balanced', None],\n",
    "                  \"kernel\"    : ['linear', 'rbf', 'poly', 'sigmoid']\n",
    "                 }\n",
    "randm_3_1 = RandomizedSearchCV(estimator=model, param_distributions = parameters, scoring='accuracy',\n",
    "                               cv = 2, n_iter = 10, n_jobs=-1)\n",
    "randm_3_1.fit(data_X_train, data_y_train)\n",
    "print('Лучшие параметры:', randm_3_1.best_params_)\n",
    "print('Accuracy на перекрестной проверке:', randm_3_1.best_score_)\n",
    "print('Accuracy метода опорных векторов на тестовом наборе:', randm_3_1.score(data_X_test, data_y_test))\n",
    "res_1['Метод опорных векторов'] = randm_3_1.score(data_X_test, data_y_test)"
   ]
  },
  {
   "cell_type": "markdown",
   "id": "54469e0c",
   "metadata": {},
   "source": [
    "# Случайный лес"
   ]
  },
  {
   "cell_type": "code",
   "execution_count": 32,
   "id": "7b08170b",
   "metadata": {},
   "outputs": [
    {
     "name": "stdout",
     "output_type": "stream",
     "text": [
      "Лучшие параметры: {'n_estimators': 195, 'min_samples_split': 2, 'max_features': 'log2', 'max_depth': 7, 'criterion': 'entropy', 'class_weight': 'balanced'}\n",
      "F-мера на перекрестной проверке: 0.8818713687888513\n",
      "F-мера случайного леса на тестовом наборе: 0.8783783783783783\n"
     ]
    }
   ],
   "source": [
    "model = RandomForestClassifier()\n",
    "parameters = {\"min_samples_split\": range(2, 100, 5),\n",
    "                  \"criterion\"    : ['gini', 'entropy'],\n",
    "                  \"n_estimators\" : range(50, 200, 5),\n",
    "                  \"max_depth\"    : range(1, 35),\n",
    "              \"class_weight\" : ['balanced', None],\n",
    "              \"max_features\": ['auto', None, 'log2']\n",
    "                 }\n",
    "randm_4 = RandomizedSearchCV(estimator=model, param_distributions = parameters, scoring='f1',\n",
    "                               cv = 2, n_iter = 10, n_jobs=-1)\n",
    "randm_4.fit(data_X_train, data_y_train)\n",
    "print('Лучшие параметры:', randm_4.best_params_)\n",
    "print('F-мера на перекрестной проверке:', randm_4.best_score_)\n",
    "print('F-мера случайного леса на тестовом наборе:', randm_4.score(data_X_test, data_y_test))\n",
    "res['Случайный лес'] = randm_4.score(data_X_test, data_y_test)"
   ]
  },
  {
   "cell_type": "code",
   "execution_count": 33,
   "id": "0331717b",
   "metadata": {},
   "outputs": [
    {
     "name": "stdout",
     "output_type": "stream",
     "text": [
      "Лучшие параметры: {'n_estimators': 55, 'min_samples_split': 7, 'max_features': 'auto', 'max_depth': 19, 'criterion': 'gini', 'class_weight': 'balanced'}\n",
      "Accuracy на перекрестной проверке: 0.867536231884058\n",
      "Accuracy случайного леса на тестовом наборе: 0.8985507246376812\n"
     ]
    }
   ],
   "source": [
    "model = RandomForestClassifier()\n",
    "parameters = {\"min_samples_split\": range(2, 100, 5),\n",
    "                  \"criterion\"    : ['gini', 'entropy'],\n",
    "                  \"n_estimators\" : range(50, 200, 5),\n",
    "                  \"max_depth\"    : range(1, 35),\n",
    "              \"class_weight\" : ['balanced', None],\n",
    "              \"max_features\": ['auto', None, 'log2']\n",
    "                 }\n",
    "randm_4_1 = RandomizedSearchCV(estimator=model, param_distributions = parameters, scoring='accuracy',\n",
    "                               cv = 2, n_iter = 10, n_jobs=-1)\n",
    "randm_4_1.fit(data_X_train, data_y_train)\n",
    "print('Лучшие параметры:', randm_4_1.best_params_)\n",
    "print('Accuracy на перекрестной проверке:', randm_4_1.best_score_)\n",
    "print('Accuracy случайного леса на тестовом наборе:', randm_4_1.score(data_X_test, data_y_test))\n",
    "res_1['Случайный лес'] = randm_4_1.score(data_X_test, data_y_test)"
   ]
  },
  {
   "cell_type": "markdown",
   "id": "01975dd7",
   "metadata": {},
   "source": [
    "# Градиентный бустинг"
   ]
  },
  {
   "cell_type": "code",
   "execution_count": 34,
   "id": "511b21c6",
   "metadata": {},
   "outputs": [
    {
     "name": "stdout",
     "output_type": "stream",
     "text": [
      "Лучшие параметры: {'learning_rate': 0.01743355607035113, 'max_depth': 8, 'n_estimators': 348, 'subsample': 0.012059409372783492}\n",
      "F-мера на перекрестной проверке: 0.8706095424720168\n",
      "F-мера градиентного бустинга на тестовом наборе: 0.8652482269503547\n"
     ]
    }
   ],
   "source": [
    "model = GradientBoostingClassifier()\n",
    "parameters = {\"learning_rate\": sp_randFloat(),\n",
    "                  \"subsample\"    : sp_randFloat(),\n",
    "                  \"n_estimators\" : sp_randInt(100, 1000),\n",
    "                  \"max_depth\"    : sp_randInt(4, 10)\n",
    "                 }\n",
    "randm_5 = RandomizedSearchCV(estimator=model, param_distributions = parameters, scoring='f1',\n",
    "                               cv = 2, n_iter = 10, n_jobs=-1)\n",
    "randm_5.fit(data_X_train, data_y_train)\n",
    "print('Лучшие параметры:', randm_5.best_params_)\n",
    "print('F-мера на перекрестной проверке:', randm_5.best_score_)\n",
    "print('F-мера градиентного бустинга на тестовом наборе:', randm_5.score(data_X_test, data_y_test))\n",
    "res['Градиентный бустинг'] = randm_5.score(data_X_test, data_y_test)"
   ]
  },
  {
   "cell_type": "code",
   "execution_count": 35,
   "id": "d1475dd4",
   "metadata": {},
   "outputs": [
    {
     "name": "stdout",
     "output_type": "stream",
     "text": [
      "Лучшие параметры: {'learning_rate': 0.2833726466380505, 'max_depth': 8, 'n_estimators': 252, 'subsample': 0.5031796276113675}\n",
      "Accuracy на перекрестной проверке: 0.8584584980237154\n",
      "Accuracy градиентного бустинга на тестовом наборе: 0.8768115942028986\n"
     ]
    }
   ],
   "source": [
    "model = GradientBoostingClassifier()\n",
    "parameters = {\"learning_rate\": sp_randFloat(),\n",
    "                  \"subsample\"    : sp_randFloat(),\n",
    "                  \"n_estimators\" : sp_randInt(100, 1000),\n",
    "                  \"max_depth\"    : sp_randInt(4, 10)\n",
    "                 }\n",
    "randm_5_1 = RandomizedSearchCV(estimator=model, param_distributions = parameters, scoring='accuracy',\n",
    "                               cv = 2, n_iter = 10, n_jobs=-1)\n",
    "randm_5_1.fit(data_X_train, data_y_train)\n",
    "print('Лучшие параметры:', randm_5_1.best_params_)\n",
    "print('Accuracy на перекрестной проверке:', randm_5_1.best_score_)\n",
    "print('Accuracy градиентного бустинга на тестовом наборе:', randm_5_1.score(data_X_test, data_y_test))\n",
    "res_1['Градиентный бустинг'] = randm_5_1.score(data_X_test, data_y_test)"
   ]
  },
  {
   "cell_type": "markdown",
   "id": "ccf7033a",
   "metadata": {},
   "source": [
    "# Вывод результатов"
   ]
  },
  {
   "cell_type": "code",
   "execution_count": 38,
   "id": "09cda5c1",
   "metadata": {},
   "outputs": [
    {
     "name": "stdout",
     "output_type": "stream",
     "text": [
      "Для F-меры:\n"
     ]
    },
    {
     "data": {
      "text/plain": [
       "{'логистической регрессии': 0.8671328671328671,\n",
       " 'Дерево решений': 0.8258064516129032,\n",
       " 'Случайный лес': 0.8783783783783783,\n",
       " 'Градиентный бустинг': 0.8652482269503547,\n",
       " 'Метод опорных векторов': 0.8652482269503547}"
      ]
     },
     "execution_count": 38,
     "metadata": {},
     "output_type": "execute_result"
    }
   ],
   "source": [
    "print('Для F-меры:')\n",
    "res"
   ]
  },
  {
   "cell_type": "code",
   "execution_count": 39,
   "id": "b925bd2d",
   "metadata": {},
   "outputs": [
    {
     "name": "stdout",
     "output_type": "stream",
     "text": [
      "Для accuracy:\n"
     ]
    },
    {
     "data": {
      "text/plain": [
       "{'логистической регрессии': 0.8623188405797102,\n",
       " 'Дерево решений': 0.8260869565217391,\n",
       " 'Метод опорных векторов': 0.855072463768116,\n",
       " 'Случайный лес': 0.8985507246376812,\n",
       " 'Градиентный бустинг': 0.8768115942028986}"
      ]
     },
     "execution_count": 39,
     "metadata": {},
     "output_type": "execute_result"
    }
   ],
   "source": [
    "print('Для accuracy:')\n",
    "res_1"
   ]
  },
  {
   "cell_type": "code",
   "execution_count": 40,
   "id": "c369d822",
   "metadata": {},
   "outputs": [
    {
     "data": {
      "text/plain": [
       "array([[55,  7],\n",
       "       [11, 65]], dtype=int64)"
      ]
     },
     "execution_count": 40,
     "metadata": {},
     "output_type": "execute_result"
    }
   ],
   "source": [
    "from sklearn.metrics import confusion_matrix\n",
    "y_pred = randm_4.predict(data_X_test)\n",
    "confusion_matrix(data_y_test, y_pred)"
   ]
  },
  {
   "cell_type": "code",
   "execution_count": 41,
   "id": "367254ef",
   "metadata": {},
   "outputs": [
    {
     "data": {
      "text/plain": [
       "array([[57,  5],\n",
       "       [ 9, 67]], dtype=int64)"
      ]
     },
     "execution_count": 41,
     "metadata": {},
     "output_type": "execute_result"
    }
   ],
   "source": [
    "from sklearn.metrics import confusion_matrix\n",
    "y_pred = randm_4_1.predict(data_X_test)\n",
    "confusion_matrix(data_y_test, y_pred)"
   ]
  },
  {
   "cell_type": "code",
   "execution_count": null,
   "id": "a2ae917a",
   "metadata": {},
   "outputs": [],
   "source": []
  }
 ],
 "metadata": {
  "kernelspec": {
   "display_name": "Python 3 (ipykernel)",
   "language": "python",
   "name": "python3"
  },
  "language_info": {
   "codemirror_mode": {
    "name": "ipython",
    "version": 3
   },
   "file_extension": ".py",
   "mimetype": "text/x-python",
   "name": "python",
   "nbconvert_exporter": "python",
   "pygments_lexer": "ipython3",
   "version": "3.9.7"
  }
 },
 "nbformat": 4,
 "nbformat_minor": 5
}
